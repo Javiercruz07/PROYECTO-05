{
 "cells": [
  {
   "cell_type": "markdown",
   "metadata": {},
   "source": [
    "## PROYECTO 05"
   ]
  },
  {
   "cell_type": "markdown",
   "metadata": {},
   "source": [
    "## JAVIER CRUZ"
   ]
  },
  {
   "cell_type": "markdown",
   "metadata": {},
   "source": [
    "#### Descripción del proyecto"
   ]
  },
  {
   "cell_type": "markdown",
   "metadata": {},
   "source": [
    "El operador de telecomunicaciones Megaline. La empresa ofrece a sus clientes dos tarifas de prepago, Surf y Ultimate. El departamento comercial quiere saber cuál de los planes genera más ingresos para poder ajustar el presupuesto de publicidad.\n",
    "\n",
    "Vas a realizar un análisis preliminar de las tarifas basado en una selección de clientes relativamente pequeña. Tendrás los datos de 500 clientes de Megaline: quiénes son los clientes, de dónde son, qué tarifa usan, así como la cantidad de llamadas que hicieron y los mensajes de texto que enviaron en 2018. Tu trabajo es analizar el comportamiento de los clientes y determinar qué tarifa de prepago genera más ingresos. Más adelante, encontrarás en las instrucciones del proyecto cuáles son exactamente los aspectos del comportamiento de los clientes que debes analizar. Determinar qué plan, en promedio, aporta más ingresos es una cuestión que se abordará mediante pruebas estadísticas. Más adelante encontrarás más información al respecto en la sección de instrucciones del proyecto."
   ]
  },
  {
   "cell_type": "markdown",
   "metadata": {
    "id": "3rYiDeEH0q0f"
   },
   "source": [
    "# ¿Cuál es la mejor tarifa?\n",
    "\n",
    "Trabajas como analista para el operador de telecomunicaciones Megaline. La empresa ofrece a sus clientes dos tarifas de prepago, Surf y Ultimate. El departamento comercial quiere saber cuál de las tarifas genera más ingresos para poder ajustar el presupuesto de publicidad.\n",
    "\n",
    "Vas a realizar un análisis preliminar de las tarifas basado en una selección de clientes relativamente pequeña. Tendrás los datos de 500 clientes de Megaline: quiénes son los clientes, de dónde son, qué tarifa usan, así como la cantidad de llamadas que hicieron y los mensajes de texto que enviaron en 2018. Tu trabajo es analizar el comportamiento de los clientes y determinar qué tarifa de prepago genera más ingresos."
   ]
  },
  {
   "cell_type": "markdown",
   "metadata": {
    "id": "MQi4IPy70q0y"
   },
   "source": [
    "## Inicialización"
   ]
  },
  {
   "cell_type": "code",
   "execution_count": 98,
   "metadata": {
    "id": "MtYIuBxu0q0z"
   },
   "outputs": [],
   "source": [
    "# Cargar todas las librerías\n",
    "import pandas as pd\n",
    "import numpy as np\n",
    "import matplotlib.pyplot as plt\n",
    "import seaborn as sns\n",
    "from scipy import stats\n",
    "from io import StringIO\n",
    "import math \n",
    "from scipy.stats import ttest_ind"
   ]
  },
  {
   "cell_type": "markdown",
   "metadata": {
    "id": "4ysWWC5i0q00"
   },
   "source": [
    "## Cargar datos"
   ]
  },
  {
   "cell_type": "code",
   "execution_count": 6,
   "metadata": {
    "id": "CCqPW7rS0q01"
   },
   "outputs": [
    {
     "name": "stdout",
     "output_type": "stream",
     "text": [
      "Información de los DataFrames:\n",
      "\n",
      "Calls shape: (137735, 4)\n",
      "\n",
      "Messages shape: (76051, 3)\n",
      "\n",
      "Internet shape: (104825, 4)\n",
      "\n",
      "Users shape: (500, 8)\n",
      "\n",
      "Plans shape: (2, 8)\n"
     ]
    }
   ],
   "source": [
    "# Carga los archivos de datos en diferentes DataFrames\n",
    "calls = pd.read_csv('megaline_calls.csv')\n",
    "messages = pd.read_csv('megaline_messages.csv')\n",
    "internet = pd.read_csv('megaline_internet.csv')\n",
    "users = pd.read_csv('megaline_users.csv')\n",
    "plans = pd.read_csv('megaline_plans.csv')\n",
    "\n",
    "\n",
    "print(\"Información de los DataFrames:\")\n",
    "print(\"\\nCalls shape:\", calls.shape)\n",
    "print(\"\\nMessages shape:\", messages.shape)\n",
    "print(\"\\nInternet shape:\", internet.shape)\n",
    "print(\"\\nUsers shape:\", users.shape)\n",
    "print(\"\\nPlans shape:\", plans.shape)"
   ]
  },
  {
   "cell_type": "markdown",
   "metadata": {
    "id": "69qqoJ3r0q01"
   },
   "source": [
    "## Preparar los datos"
   ]
  },
  {
   "cell_type": "code",
   "execution_count": 7,
   "metadata": {},
   "outputs": [
    {
     "name": "stdout",
     "output_type": "stream",
     "text": [
      "\n",
      "### Datos preparados ###\n",
      "Duplicados eliminados y datos listos para análisis.\n"
     ]
    }
   ],
   "source": [
    "calls = calls.drop_duplicates()\n",
    "messages = messages.drop_duplicates()\n",
    "internet = internet.drop_duplicates()\n",
    "users = users.drop_duplicates()\n",
    "plans = plans.drop_duplicates()\n",
    "\n",
    "print(\"\\n### Datos preparados ###\")\n",
    "print(\"Duplicados eliminados y datos listos para análisis.\")"
   ]
  },
  {
   "cell_type": "markdown",
   "metadata": {
    "id": "ohBhimvH0q01"
   },
   "source": [
    "## Tarifas"
   ]
  },
  {
   "cell_type": "code",
   "execution_count": 8,
   "metadata": {
    "id": "GptqP3Q40q02"
   },
   "outputs": [
    {
     "name": "stdout",
     "output_type": "stream",
     "text": [
      "### Información general del DataFrame de tarifas:\n",
      "<class 'pandas.core.frame.DataFrame'>\n",
      "Int64Index: 2 entries, 0 to 1\n",
      "Data columns (total 8 columns):\n",
      " #   Column                 Non-Null Count  Dtype  \n",
      "---  ------                 --------------  -----  \n",
      " 0   messages_included      2 non-null      int64  \n",
      " 1   mb_per_month_included  2 non-null      int64  \n",
      " 2   minutes_included       2 non-null      int64  \n",
      " 3   usd_monthly_pay        2 non-null      int64  \n",
      " 4   usd_per_gb             2 non-null      int64  \n",
      " 5   usd_per_message        2 non-null      float64\n",
      " 6   usd_per_minute         2 non-null      float64\n",
      " 7   plan_name              2 non-null      object \n",
      "dtypes: float64(2), int64(5), object(1)\n",
      "memory usage: 144.0+ bytes\n",
      "None\n",
      "\n",
      "### Resumen estadístico del DataFrame de tarifas:\n",
      "       messages_included  mb_per_month_included  minutes_included  \\\n",
      "count           2.000000               2.000000          2.000000   \n",
      "mean          525.000000           23040.000000       1750.000000   \n",
      "std           671.751442           10861.160159       1767.766953   \n",
      "min            50.000000           15360.000000        500.000000   \n",
      "25%           287.500000           19200.000000       1125.000000   \n",
      "50%           525.000000           23040.000000       1750.000000   \n",
      "75%           762.500000           26880.000000       2375.000000   \n",
      "max          1000.000000           30720.000000       3000.000000   \n",
      "\n",
      "       usd_monthly_pay  usd_per_gb  usd_per_message  usd_per_minute  \n",
      "count         2.000000     2.00000         2.000000        2.000000  \n",
      "mean         45.000000     8.50000         0.020000        0.020000  \n",
      "std          35.355339     2.12132         0.014142        0.014142  \n",
      "min          20.000000     7.00000         0.010000        0.010000  \n",
      "25%          32.500000     7.75000         0.015000        0.015000  \n",
      "50%          45.000000     8.50000         0.020000        0.020000  \n",
      "75%          57.500000     9.25000         0.025000        0.025000  \n",
      "max          70.000000    10.00000         0.030000        0.030000  \n",
      "\n",
      "### Información de las tarifas disponibles:\n",
      "\n",
      "Plan: SURF\n",
      "- Mensajes incluidos: 50\n",
      "- MB por mes incluidos: 15360 (15.0 GB)\n",
      "- Minutos incluidos: 500\n",
      "- Costo mensual: $20\n",
      "- Costo por GB adicional: $10\n",
      "- Costo por mensaje adicional: $0.03\n",
      "- Costo por minuto adicional: $0.03\n",
      "\n",
      "Plan: ULTIMATE\n",
      "- Mensajes incluidos: 1000\n",
      "- MB por mes incluidos: 30720 (30.0 GB)\n",
      "- Minutos incluidos: 3000\n",
      "- Costo mensual: $70\n",
      "- Costo por GB adicional: $7\n",
      "- Costo por mensaje adicional: $0.01\n",
      "- Costo por minuto adicional: $0.01\n"
     ]
    }
   ],
   "source": [
    "# Imprime la información general/resumida sobre el DataFrame de las tarifas\n",
    "print(\"### Información general del DataFrame de tarifas:\")\n",
    "print(plans.info())\n",
    "\n",
    "print(\"\\n### Resumen estadístico del DataFrame de tarifas:\")\n",
    "print(plans.describe())\n",
    "\n",
    "print(\"\\n### Información de las tarifas disponibles:\")\n",
    "for plan in plans.itertuples():\n",
    "    print(f\"\\nPlan: {plan.plan_name.upper()}\")\n",
    "    print(f\"- Mensajes incluidos: {plan.messages_included}\")\n",
    "    print(f\"- MB por mes incluidos: {plan.mb_per_month_included} ({plan.mb_per_month_included/1024:.1f} GB)\")\n",
    "    print(f\"- Minutos incluidos: {plan.minutes_included}\")\n",
    "    print(f\"- Costo mensual: ${plan.usd_monthly_pay}\")\n",
    "    print(f\"- Costo por GB adicional: ${plan.usd_per_gb}\")\n",
    "    print(f\"- Costo por mensaje adicional: ${plan.usd_per_message}\")\n",
    "    print(f\"- Costo por minuto adicional: ${plan.usd_per_minute}\")"
   ]
  },
  {
   "cell_type": "code",
   "execution_count": 9,
   "metadata": {
    "id": "64xzjwL70q02"
   },
   "outputs": [
    {
     "name": "stdout",
     "output_type": "stream",
     "text": [
      "Muestra de las tarifas disponibles:\n",
      "   messages_included  mb_per_month_included  minutes_included  \\\n",
      "0                 50                  15360               500   \n",
      "1               1000                  30720              3000   \n",
      "\n",
      "   usd_monthly_pay  usd_per_gb  usd_per_message  usd_per_minute plan_name  \n",
      "0               20          10             0.03            0.03      surf  \n",
      "1               70           7             0.01            0.01  ultimate  \n"
     ]
    }
   ],
   "source": [
    "# Imprime una muestra de los datos para las tarifas\n",
    "print(\"Muestra de las tarifas disponibles:\")\n",
    "print(plans)\n"
   ]
  },
  {
   "cell_type": "markdown",
   "metadata": {
    "id": "mEc_3_hs0q02"
   },
   "source": [
    "\n",
    "#respuesta: Tenemos dos filas (una para cada plan: \"surf\" y \"ultimate\") y ocho columnas, y no faltan valores. Todas las columnas tienen el tipo de dato correcto, ya que los datos parecen tener el formato correcto, por lo que no se necesitan correcciones. Para mejorar la legibilidad de los datos, podría: convertir MB a GB en mb_per_month_included y eliminar los guiones bajos de los nombres de las columnas al imprimir el marco de datos, para que sea más legible."
   ]
  },
  {
   "cell_type": "markdown",
   "metadata": {
    "id": "R3C05i1l0q03"
   },
   "source": [
    "## Corregir datos"
   ]
  },
  {
   "cell_type": "code",
   "execution_count": 10,
   "metadata": {
    "id": "Y7SVmjGn0q03"
   },
   "outputs": [
    {
     "name": "stdout",
     "output_type": "stream",
     "text": [
      "Nombres de las columnas: Index(['messages_included', 'mb_per_month_included', 'minutes_included',\n",
      "       'usd_monthly_pay', 'usd_per_gb', 'usd_per_message', 'usd_per_minute',\n",
      "       'plan_name'],\n",
      "      dtype='object')\n",
      "Datos corregidos:\n",
      "   messages  mb_included  minutes  monthly_cost  extra_cost_per_gb  \\\n",
      "0        50        15360      500            20                 10   \n",
      "1      1000        30720     3000            70                  7   \n",
      "\n",
      "   extra_cost_per_message  extra_cost_per_minute      plan  \\\n",
      "0                    0.03                   0.03      surf   \n",
      "1                    0.01                   0.01  ultimate   \n",
      "\n",
      "   gb_per_month_included  \n",
      "0                   15.0  \n",
      "1                   30.0  \n"
     ]
    }
   ],
   "source": [
    "print(\"Nombres de las columnas:\", plans.columns)\n",
    "\n",
    "# Convertir MB a GB para facilitar el análisis\n",
    "if 'mb_per_month_included' in plans.columns:\n",
    "    plans['gb_per_month_included'] = plans['mb_per_month_included'] / 1024\n",
    "else:\n",
    "    print(\"La columna 'mb_per_month_included' no existe. Verifica los nombres de las columnas.\")\n",
    "\n",
    "# Renombrar columnas\n",
    "plans.rename(columns={\n",
    "    'messages_included': 'messages',\n",
    "    'mb_per_month_included': 'mb_included',\n",
    "    'minutes_included': 'minutes',\n",
    "    'usd_monthly_pay': 'monthly_cost',\n",
    "    'usd_per_gb': 'extra_cost_per_gb',\n",
    "    'usd_per_message': 'extra_cost_per_message',\n",
    "    'usd_per_minute': 'extra_cost_per_minute',\n",
    "    'plan_name': 'plan'\n",
    "}, inplace=True)\n",
    "\n",
    "print(\"Datos corregidos:\")\n",
    "print(plans)"
   ]
  },
  {
   "cell_type": "markdown",
   "metadata": {
    "id": "LJir7bml0q03"
   },
   "source": [
    "## Enriquecer los datos"
   ]
  },
  {
   "cell_type": "code",
   "execution_count": 11,
   "metadata": {
    "id": "gfcIEuXV0q04"
   },
   "outputs": [
    {
     "name": "stdout",
     "output_type": "stream",
     "text": [
      "\n",
      "Datos enriquecidos:\n",
      "   messages  mb_included  minutes  monthly_cost  extra_cost_per_gb  \\\n",
      "0        50        15360      500            20                 10   \n",
      "1      1000        30720     3000            70                  7   \n",
      "\n",
      "   extra_cost_per_message  extra_cost_per_minute      plan  \\\n",
      "0                    0.03                   0.03      surf   \n",
      "1                    0.01                   0.01  ultimate   \n",
      "\n",
      "   gb_per_month_included  cost_per_included_gb  cost_per_included_minute  \\\n",
      "0                   15.0              1.333333                  0.040000   \n",
      "1                   30.0              2.333333                  0.023333   \n",
      "\n",
      "   cost_per_included_message  \n",
      "0                       0.40  \n",
      "1                       0.07  \n"
     ]
    }
   ],
   "source": [
    "plans['cost_per_included_gb'] = plans['monthly_cost'] / plans['gb_per_month_included']\n",
    "plans['cost_per_included_minute'] = plans['monthly_cost'] / plans['minutes']\n",
    "plans['cost_per_included_message'] = plans['monthly_cost'] / plans['messages']\n",
    "\n",
    "# Mostrar los datos enriquecidos\n",
    "print(\"\\nDatos enriquecidos:\")\n",
    "print(plans)"
   ]
  },
  {
   "cell_type": "markdown",
   "metadata": {
    "id": "1n2X6WXf0q04"
   },
   "source": [
    "## Usuarios/as"
   ]
  },
  {
   "cell_type": "code",
   "execution_count": 12,
   "metadata": {
    "id": "2NgjWFqx0q05"
   },
   "outputs": [
    {
     "name": "stdout",
     "output_type": "stream",
     "text": [
      "### Información general del DataFrame de usuarios:\n",
      "<class 'pandas.core.frame.DataFrame'>\n",
      "Int64Index: 500 entries, 0 to 499\n",
      "Data columns (total 8 columns):\n",
      " #   Column      Non-Null Count  Dtype \n",
      "---  ------      --------------  ----- \n",
      " 0   user_id     500 non-null    int64 \n",
      " 1   first_name  500 non-null    object\n",
      " 2   last_name   500 non-null    object\n",
      " 3   age         500 non-null    int64 \n",
      " 4   city        500 non-null    object\n",
      " 5   reg_date    500 non-null    object\n",
      " 6   plan        500 non-null    object\n",
      " 7   churn_date  34 non-null     object\n",
      "dtypes: int64(2), object(6)\n",
      "memory usage: 35.2+ KB\n",
      "None\n"
     ]
    }
   ],
   "source": [
    "# Imprime la información general/resumida sobre el DataFrame de usuarios\n",
    "print(\"### Información general del DataFrame de usuarios:\")\n",
    "print(users.info())\n"
   ]
  },
  {
   "cell_type": "code",
   "execution_count": 13,
   "metadata": {
    "id": "1IN1L9uh0q05"
   },
   "outputs": [
    {
     "name": "stdout",
     "output_type": "stream",
     "text": [
      "\n",
      "### Muestra de datos de usuarios:\n",
      "   user_id first_name  last_name  age                                   city  \\\n",
      "0     1000   Anamaria      Bauer   45  Atlanta-Sandy Springs-Roswell, GA MSA   \n",
      "1     1001     Mickey  Wilkerson   28        Seattle-Tacoma-Bellevue, WA MSA   \n",
      "2     1002     Carlee    Hoffman   36   Las Vegas-Henderson-Paradise, NV MSA   \n",
      "3     1003   Reynaldo    Jenkins   52                          Tulsa, OK MSA   \n",
      "4     1004    Leonila   Thompson   40        Seattle-Tacoma-Bellevue, WA MSA   \n",
      "\n",
      "     reg_date      plan churn_date  \n",
      "0  2018-12-24  ultimate        NaN  \n",
      "1  2018-08-13      surf        NaN  \n",
      "2  2018-10-21      surf        NaN  \n",
      "3  2018-01-28      surf        NaN  \n",
      "4  2018-05-23      surf        NaN  \n"
     ]
    }
   ],
   "source": [
    "# Imprime una muestra de datos para usuarios\n",
    "print(\"\\n### Muestra de datos de usuarios:\")\n",
    "print(users.head())\n"
   ]
  },
  {
   "cell_type": "markdown",
   "metadata": {
    "id": "dCZoUq4f0q06"
   },
   "source": [
    "#respuesta: se observa que el DataFrame tiene 500 registros y 8 columnas. La mayoría de las columnas no tienen valores nulos, excepto churn_date, que tiene solo 34 valores no nulos. Esto indica que la mayoría de los usuarios no han cancelado su plan. Los tipos de datos parecen adecuados, excepto reg_date y churn_date, que están como object y deberían ser convertidos a formato de fecha (datetime) para facilitar el análisis.\n",
    "\n",
    "En la muestra de datos, no se observan problemas evidentes con los valores. Sin embargo, la columna churn_date tiene valores nulos, lo cual es esperado porque no todos los usuarios han cancelado su plan."
   ]
  },
  {
   "cell_type": "markdown",
   "metadata": {
    "id": "BX5FQh_I0q06"
   },
   "source": [
    "### Corregir los datos"
   ]
  },
  {
   "cell_type": "code",
   "execution_count": 14,
   "metadata": {
    "id": "yUqX-K0C0q07"
   },
   "outputs": [
    {
     "name": "stdout",
     "output_type": "stream",
     "text": [
      "Nombres de las columnas: Index(['messages', 'mb_included', 'minutes', 'monthly_cost',\n",
      "       'extra_cost_per_gb', 'extra_cost_per_message', 'extra_cost_per_minute',\n",
      "       'plan', 'gb_per_month_included', 'cost_per_included_gb',\n",
      "       'cost_per_included_minute', 'cost_per_included_message'],\n",
      "      dtype='object')\n",
      "La columna 'mb_per_month_included' no existe. Verifica los nombres de las columnas.\n",
      "Datos corregidos:\n",
      "   messages  mb_included  minutes  monthly_cost  extra_cost_per_gb  \\\n",
      "0        50        15360      500            20                 10   \n",
      "1      1000        30720     3000            70                  7   \n",
      "\n",
      "   extra_cost_per_message  extra_cost_per_minute      plan  \\\n",
      "0                    0.03                   0.03      surf   \n",
      "1                    0.01                   0.01  ultimate   \n",
      "\n",
      "   gb_per_month_included  cost_per_included_gb  cost_per_included_minute  \\\n",
      "0                   15.0              1.333333                  0.040000   \n",
      "1                   30.0              2.333333                  0.023333   \n",
      "\n",
      "   cost_per_included_message  \n",
      "0                       0.40  \n",
      "1                       0.07  \n"
     ]
    }
   ],
   "source": [
    "print(\"Nombres de las columnas:\", plans.columns)\n",
    "\n",
    "# Eliminar espacios en los nombres de las columnas\n",
    "plans.columns = plans.columns.str.strip()\n",
    "\n",
    "# Convertir MB a GB\n",
    "if 'mb_per_month_included' in plans.columns:\n",
    "    plans['gb_per_month_included'] = plans['mb_per_month_included'] / 1024\n",
    "else:\n",
    "    print(\"La columna 'mb_per_month_included' no existe. Verifica los nombres de las columnas.\")\n",
    "\n",
    "# Renombrar columnas\n",
    "plans.rename(columns={\n",
    "    'messages_included': 'messages',\n",
    "    'mb_per_month_included': 'mb_included',\n",
    "    'minutes_included': 'minutes',\n",
    "    'usd_monthly_pay': 'monthly_cost',\n",
    "    'usd_per_gb': 'extra_cost_per_gb',\n",
    "    'usd_per_message': 'extra_cost_per_message',\n",
    "    'usd_per_minute': 'extra_cost_per_minute',\n",
    "    'plan_name': 'plan'\n",
    "}, inplace=True)\n",
    "\n",
    "print(\"Datos corregidos:\")\n",
    "print(plans)"
   ]
  },
  {
   "cell_type": "markdown",
   "metadata": {
    "id": "ycwuARJp0q07"
   },
   "source": [
    "### Enriquecer los datos"
   ]
  },
  {
   "cell_type": "code",
   "execution_count": 15,
   "metadata": {
    "id": "iq0AaBS90q08"
   },
   "outputs": [
    {
     "name": "stdout",
     "output_type": "stream",
     "text": [
      "\n",
      "Datos enriquecidos:\n",
      "   messages  mb_included  minutes  monthly_cost  extra_cost_per_gb  \\\n",
      "0        50        15360      500            20                 10   \n",
      "1      1000        30720     3000            70                  7   \n",
      "\n",
      "   extra_cost_per_message  extra_cost_per_minute      plan  \\\n",
      "0                    0.03                   0.03      surf   \n",
      "1                    0.01                   0.01  ultimate   \n",
      "\n",
      "   gb_per_month_included  cost_per_included_gb  cost_per_included_minute  \\\n",
      "0                   15.0              1.333333                  0.040000   \n",
      "1                   30.0              2.333333                  0.023333   \n",
      "\n",
      "   cost_per_included_message  \n",
      "0                       0.40  \n",
      "1                       0.07  \n"
     ]
    }
   ],
   "source": [
    "plans['cost_per_included_gb'] = plans['monthly_cost'] / plans['gb_per_month_included']\n",
    "plans['cost_per_included_minute'] = plans['monthly_cost'] / plans['minutes']\n",
    "plans['cost_per_included_message'] = plans['monthly_cost'] / plans['messages']\n",
    "\n",
    "print(\"\\nDatos enriquecidos:\")\n",
    "print(plans)"
   ]
  },
  {
   "cell_type": "markdown",
   "metadata": {
    "id": "o7MeKCid0q08"
   },
   "source": [
    "## Llamadas"
   ]
  },
  {
   "cell_type": "code",
   "execution_count": 16,
   "metadata": {
    "id": "6dDlnoDm0q08"
   },
   "outputs": [
    {
     "name": "stdout",
     "output_type": "stream",
     "text": [
      "### Información general del DataFrame de llamadas:\n",
      "<class 'pandas.core.frame.DataFrame'>\n",
      "Int64Index: 137735 entries, 0 to 137734\n",
      "Data columns (total 4 columns):\n",
      " #   Column     Non-Null Count   Dtype  \n",
      "---  ------     --------------   -----  \n",
      " 0   id         137735 non-null  object \n",
      " 1   user_id    137735 non-null  int64  \n",
      " 2   call_date  137735 non-null  object \n",
      " 3   duration   137735 non-null  float64\n",
      "dtypes: float64(1), int64(1), object(2)\n",
      "memory usage: 5.3+ MB\n",
      "None\n"
     ]
    }
   ],
   "source": [
    "# Imprime la información general/resumida sobre el DataFrame de las llamadas\n",
    "print(\"### Información general del DataFrame de llamadas:\")\n",
    "print(calls.info())\n"
   ]
  },
  {
   "cell_type": "code",
   "execution_count": 17,
   "metadata": {
    "id": "kuh1vlNB0q09"
   },
   "outputs": [
    {
     "name": "stdout",
     "output_type": "stream",
     "text": [
      "\n",
      "### Muestra de datos de llamadas:\n",
      "         id  user_id   call_date  duration\n",
      "0   1000_93     1000  2018-12-27      8.52\n",
      "1  1000_145     1000  2018-12-27     13.66\n",
      "2  1000_247     1000  2018-12-27     14.48\n",
      "3  1000_309     1000  2018-12-28      5.76\n",
      "4  1000_380     1000  2018-12-30      4.22\n"
     ]
    }
   ],
   "source": [
    "# Imprime una muestra de datos para las llamadas\n",
    "print(\"\\n### Muestra de datos de llamadas:\")\n",
    "print(calls.head())\n"
   ]
  },
  {
   "cell_type": "markdown",
   "metadata": {
    "id": "DOAxYJSx0q09"
   },
   "source": [
    "[Describe lo que ves y observas en la información general y en la muestra de datos impresa para el precio de datos anterior. ¿Hay algún problema (tipos de datos no adecuados, datos ausentes, etc.) que pudieran necesitar investigación y cambios adicionales? ¿Cómo se puede arreglar?]\n",
    "\n",
    "#respuesta: El DataFrame de llamadas tiene 137,735 registros y 4 columnas. No hay valores nulos en ninguna columna. Los tipos de datos parecen adecuados, excepto call_date, que está como object y debería ser convertido a formato de fecha (datetime) para facilitar el análisis. En la muestra de datos, se observa que la columna duration incluye valores mayores a cero, lo que indica la duración de las llamadas, pero no se muestran valores de duración cero, que podrían representar llamadas no contestadas o fallidas y necesitarían ser investigadas.\n",
    "Para corregir:\n",
    "*Convertir call_date a formato de fecha (datetime).\n",
    "*Investigar si las llamadas con duración cero necesitan ser tratadas o eliminadas."
   ]
  },
  {
   "cell_type": "markdown",
   "metadata": {
    "id": "S7hzxmbX0q0-"
   },
   "source": [
    "### Corregir los datos"
   ]
  },
  {
   "cell_type": "code",
   "execution_count": 18,
   "metadata": {
    "id": "S2r8xA4f0q0-"
   },
   "outputs": [
    {
     "name": "stdout",
     "output_type": "stream",
     "text": [
      "Nombres de las columnas: Index(['messages', 'mb_included', 'minutes', 'monthly_cost',\n",
      "       'extra_cost_per_gb', 'extra_cost_per_message', 'extra_cost_per_minute',\n",
      "       'plan', 'gb_per_month_included', 'cost_per_included_gb',\n",
      "       'cost_per_included_minute', 'cost_per_included_message'],\n",
      "      dtype='object')\n",
      "La columna 'mb_per_month_included' no existe. Verifica los nombres de las columnas.\n",
      "Datos corregidos:\n",
      "   messages  mb_included  minutes  monthly_cost  extra_cost_per_gb  \\\n",
      "0        50        15360      500            20                 10   \n",
      "1      1000        30720     3000            70                  7   \n",
      "\n",
      "   extra_cost_per_message  extra_cost_per_minute      plan  \\\n",
      "0                    0.03                   0.03      surf   \n",
      "1                    0.01                   0.01  ultimate   \n",
      "\n",
      "   gb_per_month_included  cost_per_included_gb  cost_per_included_minute  \\\n",
      "0                   15.0              1.333333                  0.040000   \n",
      "1                   30.0              2.333333                  0.023333   \n",
      "\n",
      "   cost_per_included_message  \n",
      "0                       0.40  \n",
      "1                       0.07  \n"
     ]
    }
   ],
   "source": [
    "print(\"Nombres de las columnas:\", plans.columns)\n",
    "\n",
    "# Eliminar espacios en los nombres de las columnas\n",
    "plans.columns = plans.columns.str.strip()\n",
    "\n",
    "# Convertir MB a GB\n",
    "if 'mb_per_month_included' in plans.columns:\n",
    "    plans['gb_per_month_included'] = plans['mb_per_month_included'] / 1024\n",
    "else:\n",
    "    print(\"La columna 'mb_per_month_included' no existe. Verifica los nombres de las columnas.\")\n",
    "\n",
    "# Renombrar columnas\n",
    "plans.rename(columns={\n",
    "    'messages_included': 'messages',\n",
    "    'mb_per_month_included': 'mb_included',\n",
    "    'minutes_included': 'minutes',\n",
    "    'usd_monthly_pay': 'monthly_cost',\n",
    "    'usd_per_gb': 'extra_cost_per_gb',\n",
    "    'usd_per_message': 'extra_cost_per_message',\n",
    "    'usd_per_minute': 'extra_cost_per_minute',\n",
    "    'plan_name': 'plan'\n",
    "}, inplace=True)\n",
    "\n",
    "print(\"Datos corregidos:\")\n",
    "print(plans)"
   ]
  },
  {
   "cell_type": "markdown",
   "metadata": {
    "id": "KrMgTrlG0q0_"
   },
   "source": [
    "### Enriquecer los datos"
   ]
  },
  {
   "cell_type": "code",
   "execution_count": 19,
   "metadata": {
    "id": "iZ1avpA_0q0_"
   },
   "outputs": [
    {
     "name": "stdout",
     "output_type": "stream",
     "text": [
      "\n",
      "Datos enriquecidos:\n",
      "   messages  mb_included  minutes  monthly_cost  extra_cost_per_gb  \\\n",
      "0        50        15360      500            20                 10   \n",
      "1      1000        30720     3000            70                  7   \n",
      "\n",
      "   extra_cost_per_message  extra_cost_per_minute      plan  \\\n",
      "0                    0.03                   0.03      surf   \n",
      "1                    0.01                   0.01  ultimate   \n",
      "\n",
      "   gb_per_month_included  cost_per_included_gb  cost_per_included_minute  \\\n",
      "0                   15.0              1.333333                  0.040000   \n",
      "1                   30.0              2.333333                  0.023333   \n",
      "\n",
      "   cost_per_included_message  \n",
      "0                       0.40  \n",
      "1                       0.07  \n"
     ]
    }
   ],
   "source": [
    "plans['cost_per_included_gb'] = plans['monthly_cost'] / plans['gb_per_month_included']\n",
    "plans['cost_per_included_minute'] = plans['monthly_cost'] / plans['minutes']\n",
    "plans['cost_per_included_message'] = plans['monthly_cost'] / plans['messages']\n",
    "\n",
    "print(\"\\nDatos enriquecidos:\")\n",
    "print(plans)"
   ]
  },
  {
   "cell_type": "markdown",
   "metadata": {},
   "source": [
    "#respuesta: Llamadas de 0 segundos son llamadas perdidas, fallidas o rechazadas y no consumen minutos, por lo tanto, no se registrarán como un uso de minutos. Sin embargo, pueden utilizarse para determinar cuántas llamadas se han fallado porque pueden proporcionar información útil."
   ]
  },
  {
   "cell_type": "markdown",
   "metadata": {
    "id": "mOUZSi180q0_"
   },
   "source": [
    "## Mensajes"
   ]
  },
  {
   "cell_type": "code",
   "execution_count": 23,
   "metadata": {
    "id": "R-bYJpdV0q1A"
   },
   "outputs": [
    {
     "name": "stdout",
     "output_type": "stream",
     "text": [
      "### Información general del DataFrame de mensajes:\n",
      "<class 'pandas.core.frame.DataFrame'>\n",
      "Int64Index: 76051 entries, 0 to 76050\n",
      "Data columns (total 3 columns):\n",
      " #   Column        Non-Null Count  Dtype \n",
      "---  ------        --------------  ----- \n",
      " 0   id            76051 non-null  object\n",
      " 1   user_id       76051 non-null  int64 \n",
      " 2   message_date  76051 non-null  object\n",
      "dtypes: int64(1), object(2)\n",
      "memory usage: 2.3+ MB\n",
      "None\n"
     ]
    }
   ],
   "source": [
    "# Imprime la información general/resumida sobre el DataFrame de los mensajes\n",
    "print(\"### Información general del DataFrame de mensajes:\")\n",
    "print(messages.info())"
   ]
  },
  {
   "cell_type": "code",
   "execution_count": 24,
   "metadata": {
    "id": "mCEl2iGE0q1A"
   },
   "outputs": [
    {
     "name": "stdout",
     "output_type": "stream",
     "text": [
      "\n",
      "### Muestra de datos de mensajes:\n",
      "         id  user_id message_date\n",
      "0  1000_125     1000   2018-12-27\n",
      "1  1000_160     1000   2018-12-31\n",
      "2  1000_223     1000   2018-12-31\n",
      "3  1000_251     1000   2018-12-27\n",
      "4  1000_255     1000   2018-12-26\n"
     ]
    }
   ],
   "source": [
    "# Imprime una muestra de datos para los mensajes\n",
    "print(\"\\n### Muestra de datos de mensajes:\")\n",
    "print(messages.head())"
   ]
  },
  {
   "cell_type": "markdown",
   "metadata": {
    "id": "04xDj7KH0q1A"
   },
   "source": [
    "los mensajes tienen 76,051 registros y 3 columnas. No hay valores nulos en ninguna columna. Los tipos de datos parecen adecuados, excepto message_date, que está como object y debería ser convertido a formato de fecha (datetime) para facilitar el análisis. En la muestra de datos, no se observan problemas evidentes, pero sería útil verificar si hay mensajes duplicados o inconsistencias en las fechas."
   ]
  },
  {
   "cell_type": "markdown",
   "metadata": {
    "id": "Sprfak900q1B"
   },
   "source": [
    "### Corregir los datos"
   ]
  },
  {
   "cell_type": "code",
   "execution_count": 25,
   "metadata": {
    "id": "vsllvkoa0q1B"
   },
   "outputs": [
    {
     "name": "stdout",
     "output_type": "stream",
     "text": [
      "Datos corregidos:\n",
      "<class 'pandas.core.frame.DataFrame'>\n",
      "Int64Index: 76051 entries, 0 to 76050\n",
      "Data columns (total 3 columns):\n",
      " #   Column        Non-Null Count  Dtype         \n",
      "---  ------        --------------  -----         \n",
      " 0   id            76051 non-null  object        \n",
      " 1   user_id       76051 non-null  int64         \n",
      " 2   message_date  76051 non-null  datetime64[ns]\n",
      "dtypes: datetime64[ns](1), int64(1), object(1)\n",
      "memory usage: 2.3+ MB\n",
      "None\n"
     ]
    }
   ],
   "source": [
    "messages['message_date'] = pd.to_datetime(messages['message_date'])\n",
    "\n",
    "# Verificar y eliminar duplicados\n",
    "messages = messages.drop_duplicates()\n",
    "\n",
    "print(\"Datos corregidos:\")\n",
    "print(messages.info())"
   ]
  },
  {
   "cell_type": "markdown",
   "metadata": {
    "id": "HvLid7iD0q1B"
   },
   "source": [
    "### Enriquecer los datos"
   ]
  },
  {
   "cell_type": "code",
   "execution_count": 26,
   "metadata": {
    "id": "zYEXZac10q1C"
   },
   "outputs": [
    {
     "name": "stdout",
     "output_type": "stream",
     "text": [
      "\n",
      "Datos enriquecidos:\n",
      "         id  user_id message_date day_of_week\n",
      "0  1000_125     1000   2018-12-27    Thursday\n",
      "1  1000_160     1000   2018-12-31      Monday\n",
      "2  1000_223     1000   2018-12-31      Monday\n",
      "3  1000_251     1000   2018-12-27    Thursday\n",
      "4  1000_255     1000   2018-12-26   Wednesday\n"
     ]
    }
   ],
   "source": [
    "messages['day_of_week'] = messages['message_date'].dt.day_name()\n",
    "\n",
    "print(\"\\nDatos enriquecidos:\")\n",
    "print(messages.head())"
   ]
  },
  {
   "cell_type": "markdown",
   "metadata": {
    "id": "bStkaxn40q1C"
   },
   "source": [
    "## Internet"
   ]
  },
  {
   "cell_type": "code",
   "execution_count": 27,
   "metadata": {
    "id": "e-Uz5qyn0q1C"
   },
   "outputs": [
    {
     "name": "stdout",
     "output_type": "stream",
     "text": [
      "### Información general del DataFrame de internet:\n",
      "<class 'pandas.core.frame.DataFrame'>\n",
      "Int64Index: 104825 entries, 0 to 104824\n",
      "Data columns (total 4 columns):\n",
      " #   Column        Non-Null Count   Dtype  \n",
      "---  ------        --------------   -----  \n",
      " 0   id            104825 non-null  object \n",
      " 1   user_id       104825 non-null  int64  \n",
      " 2   session_date  104825 non-null  object \n",
      " 3   mb_used       104825 non-null  float64\n",
      "dtypes: float64(1), int64(1), object(2)\n",
      "memory usage: 4.0+ MB\n",
      "None\n"
     ]
    }
   ],
   "source": [
    "# Imprime la información general/resumida sobre el DataFrame de internet\n",
    "print(\"### Información general del DataFrame de internet:\")\n",
    "print(internet.info())\n"
   ]
  },
  {
   "cell_type": "code",
   "execution_count": 28,
   "metadata": {
    "id": "9r3x_XLw0q1C"
   },
   "outputs": [
    {
     "name": "stdout",
     "output_type": "stream",
     "text": [
      "\n",
      "### Muestra de datos de internet:\n",
      "         id  user_id session_date  mb_used\n",
      "0   1000_13     1000   2018-12-29    89.86\n",
      "1  1000_204     1000   2018-12-31     0.00\n",
      "2  1000_379     1000   2018-12-28   660.40\n",
      "3  1000_413     1000   2018-12-26   270.99\n",
      "4  1000_442     1000   2018-12-27   880.22\n"
     ]
    }
   ],
   "source": [
    "# Imprime una muestra de datos para el tráfico de internet\n",
    "print(\"\\n### Muestra de datos de internet:\")\n",
    "print(internet.head())\n"
   ]
  },
  {
   "cell_type": "markdown",
   "metadata": {
    "id": "EzOG5ik30q1D"
   },
   "source": [
    "El DataFrame de internet tiene 104,825 registros y 4 columnas. No hay valores nulos en ninguna columna. El tipo de dato de session_date es object, pero debería ser convertido a formato de fecha (datetime) para facilitar el análisis. En la muestra de datos, no se observan problemas evidentes, pero sería útil verificar si hay sesiones duplicadas o valores inusuales en mb_used, como valores extremadamente altos o negativos."
   ]
  },
  {
   "cell_type": "markdown",
   "metadata": {
    "id": "yA0tkPFg0q1D"
   },
   "source": [
    "### Corregir los datos"
   ]
  },
  {
   "cell_type": "code",
   "execution_count": 29,
   "metadata": {
    "id": "zVeanzdd0q1E"
   },
   "outputs": [
    {
     "name": "stdout",
     "output_type": "stream",
     "text": [
      "Datos corregidos:\n",
      "<class 'pandas.core.frame.DataFrame'>\n",
      "Int64Index: 104825 entries, 0 to 104824\n",
      "Data columns (total 4 columns):\n",
      " #   Column        Non-Null Count   Dtype         \n",
      "---  ------        --------------   -----         \n",
      " 0   id            104825 non-null  object        \n",
      " 1   user_id       104825 non-null  int64         \n",
      " 2   session_date  104825 non-null  datetime64[ns]\n",
      " 3   mb_used       104825 non-null  float64       \n",
      "dtypes: datetime64[ns](1), float64(1), int64(1), object(1)\n",
      "memory usage: 4.0+ MB\n",
      "None\n"
     ]
    }
   ],
   "source": [
    "internet['session_date'] = pd.to_datetime(internet['session_date'])\n",
    "\n",
    "# Eliminar duplicados si existen\n",
    "internet = internet.drop_duplicates()\n",
    "\n",
    "# Eliminar valores negativos en mb_used si existen\n",
    "internet = internet[internet['mb_used'] >= 0]\n",
    "\n",
    "# Mostrar los datos corregidos\n",
    "print(\"Datos corregidos:\")\n",
    "print(internet.info())"
   ]
  },
  {
   "cell_type": "markdown",
   "metadata": {
    "id": "e8_mLF4a0q1E"
   },
   "source": [
    "### Enriquecer los datos"
   ]
  },
  {
   "cell_type": "code",
   "execution_count": 66,
   "metadata": {
    "id": "ESiYPIEK0q1E"
   },
   "outputs": [
    {
     "name": "stdout",
     "output_type": "stream",
     "text": [
      "\n",
      "Datos enriquecidos:\n",
      "         id  user_id session_date  mb_used day_of_week     month\n",
      "0   1000_13     1000   2018-12-29    89.86    Saturday  December\n",
      "1  1000_204     1000   2018-12-31     0.00      Monday  December\n",
      "2  1000_379     1000   2018-12-28   660.40      Friday  December\n",
      "3  1000_413     1000   2018-12-26   270.99   Wednesday  December\n",
      "4  1000_442     1000   2018-12-27   880.22    Thursday  December\n"
     ]
    }
   ],
   "source": [
    "internet['day_of_week'] = internet['session_date'].dt.day_name()\n",
    "internet['month'] = internet['session_date'].dt.month_name()\n",
    "\n",
    "print(\"\\nDatos enriquecidos:\")\n",
    "print(internet.head())"
   ]
  },
  {
   "cell_type": "markdown",
   "metadata": {
    "id": "3UA2cqIW0q1E"
   },
   "source": [
    "## Estudiar las condiciones de las tarifas"
   ]
  },
  {
   "cell_type": "code",
   "execution_count": 67,
   "metadata": {
    "id": "i409op8p0q1F"
   },
   "outputs": [
    {
     "name": "stdout",
     "output_type": "stream",
     "text": [
      "### Condiciones de las tarifas:\n",
      "   messages  minutes  monthly_cost  cost_per_gb  cost_per_message  \\\n",
      "0        50      500            20           10              0.03   \n",
      "1      1000     3000            70            7              0.01   \n",
      "\n",
      "   cost_per_minute      plan  gb_per_month_included  cost_per_included_gb  \\\n",
      "0             0.03      surf                   15.0              1.333333   \n",
      "1             0.01  ultimate                   30.0              2.333333   \n",
      "\n",
      "   cost_per_included_minute  cost_per_included_message  \n",
      "0                  0.040000                       0.40  \n",
      "1                  0.023333                       0.07  \n"
     ]
    }
   ],
   "source": [
    "# Imprime las condiciones de la tarifa y asegúrate de que te quedan claras\n",
    "print(\"### Condiciones de las tarifas:\")\n",
    "print(plans)\n"
   ]
  },
  {
   "cell_type": "markdown",
   "metadata": {
    "id": "hMR1tP5d0q1F"
   },
   "source": [
    "## Agregar datos por usuario\n"
   ]
  },
  {
   "cell_type": "code",
   "execution_count": 30,
   "metadata": {
    "id": "A332cedB0q1G"
   },
   "outputs": [
    {
     "name": "stdout",
     "output_type": "stream",
     "text": [
      "Duración total y número de llamadas por usuario al mes:\n",
      "   user_id    month  total_duration  calls_count\n",
      "0     1000  2018-12          116.83           16\n",
      "1     1001  2018-08          171.14           27\n",
      "2     1001  2018-09          297.69           49\n",
      "3     1001  2018-10          374.11           65\n",
      "4     1001  2018-11          404.59           64\n"
     ]
    }
   ],
   "source": [
    "# Calcula el número de llamadas hechas por cada usuario al mes.\n",
    "calls['call_date'] = pd.to_datetime(calls['call_date'])\n",
    "\n",
    "# Agregar una columna de mes y año\n",
    "calls['month'] = calls['call_date'].dt.to_period('M')\n",
    "\n",
    "# Usar pivot_table para calcular la duración total y el número de llamadas por usuario al mes\n",
    "pivot_calls = calls.pivot_table(index=['user_id', 'month'],\n",
    "                                values='duration',\n",
    "                                aggfunc=['sum', 'count']).reset_index()\n",
    "\n",
    "# Renombrar las columnas\n",
    "pivot_calls.columns = ['user_id', 'month', 'total_duration', 'calls_count']\n",
    "\n",
    "print(\"Duración total y número de llamadas por usuario al mes:\")\n",
    "print(pivot_calls.head())"
   ]
  },
  {
   "cell_type": "code",
   "execution_count": 31,
   "metadata": {
    "id": "aw2cmuql0q1G"
   },
   "outputs": [
    {
     "name": "stdout",
     "output_type": "stream",
     "text": [
      "\n",
      "Minutos usados por usuario al mes:\n",
      "   user_id    month  minutes_used\n",
      "0     1000  2018-12        116.83\n",
      "1     1001  2018-08        171.14\n",
      "2     1001  2018-09        297.69\n",
      "3     1001  2018-10        374.11\n",
      "4     1001  2018-11        404.59\n"
     ]
    }
   ],
   "source": [
    "# Calcula la cantidad de minutos usados por cada usuario al mes. Guarda el resultado.\n",
    "minutes_per_user = calls.groupby(['user_id', 'month'])['duration'].sum().reset_index(name='minutes_used')\n",
    "\n",
    "print(\"\\nMinutos usados por usuario al mes:\")\n",
    "print(minutes_per_user.head())"
   ]
  },
  {
   "cell_type": "code",
   "execution_count": 33,
   "metadata": {
    "id": "CcQvNHn60q1G"
   },
   "outputs": [
    {
     "name": "stdout",
     "output_type": "stream",
     "text": [
      "\n",
      "Número de mensajes enviados por usuario al mes:\n",
      "   user_id    month  messages_count\n",
      "0     1000  2018-12              11\n",
      "1     1001  2018-08              30\n",
      "2     1001  2018-09              44\n",
      "3     1001  2018-10              53\n",
      "4     1001  2018-11              36\n"
     ]
    }
   ],
   "source": [
    "# Calcula el número de mensajes enviados por cada usuario al mes. Guarda el resultado.\n",
    "messages['message_date'] = pd.to_datetime(messages['message_date'])\n",
    "\n",
    "# Crear la columna 'month' a partir de 'message_date'\n",
    "messages['month'] = messages['message_date'].dt.to_period('M')\n",
    "\n",
    "# Calcular el número de mensajes enviados por cada usuario al mes\n",
    "messages_per_user = messages.groupby(['user_id', 'month']).size().reset_index(name='messages_count')\n",
    "\n",
    "print(\"\\nNúmero de mensajes enviados por usuario al mes:\")\n",
    "print(messages_per_user.head())"
   ]
  },
  {
   "cell_type": "code",
   "execution_count": 35,
   "metadata": {
    "id": "H1AqN2eG0q1H"
   },
   "outputs": [
    {
     "name": "stdout",
     "output_type": "stream",
     "text": [
      "\n",
      "Volumen del tráfico de Internet usado por usuario al mes:\n",
      "   user_id    month  internet_used_mb\n",
      "0     1000  2018-12           1901.47\n",
      "1     1001  2018-08           6919.15\n",
      "2     1001  2018-09          13314.82\n",
      "3     1001  2018-10          22330.49\n",
      "4     1001  2018-11          18504.30\n"
     ]
    }
   ],
   "source": [
    "# Calcula el volumen del tráfico de Internet usado por cada usuario al mes. Guarda el resultado.\n",
    "internet['session_date'] = pd.to_datetime(internet['session_date'])\n",
    "\n",
    "# Crear la columna 'month' a partir de 'session_date'\n",
    "internet['month'] = internet['session_date'].dt.to_period('M')\n",
    "\n",
    "# Calcular el volumen del tráfico de Internet usado por cada usuario al mes\n",
    "internet_per_user = internet.groupby(['user_id', 'month'])['mb_used'].sum().reset_index(name='internet_used_mb')\n",
    "\n",
    "print(\"\\nVolumen del tráfico de Internet usado por usuario al mes:\")\n",
    "print(internet_per_user.head())"
   ]
  },
  {
   "cell_type": "code",
   "execution_count": 39,
   "metadata": {
    "id": "FW99ykyf0q1H"
   },
   "outputs": [
    {
     "name": "stdout",
     "output_type": "stream",
     "text": [
      "Datos fusionados:\n",
      "   user_id    month  calls_count  total_minutes  messages_count  \\\n",
      "0     1000  2018-12         16.0         116.83            11.0   \n",
      "1     1001  2018-08         27.0         171.14            30.0   \n",
      "2     1001  2018-09         49.0         297.69            44.0   \n",
      "3     1001  2018-10         65.0         374.11            53.0   \n",
      "4     1001  2018-11         64.0         404.59            36.0   \n",
      "\n",
      "   internet_used_mb  \n",
      "0           1901.47  \n",
      "1           6919.15  \n",
      "2          13314.82  \n",
      "3          22330.49  \n",
      "4          18504.30  \n"
     ]
    }
   ],
   "source": [
    "# Fusiona los datos de llamadas, minutos, mensajes e Internet con base en user_id y month\n",
    "calls['call_date'] = pd.to_datetime(calls['call_date'])\n",
    "messages['message_date'] = pd.to_datetime(messages['message_date'])\n",
    "internet['session_date'] = pd.to_datetime(internet['session_date'])\n",
    "\n",
    "calls['month'] = calls['call_date'].dt.to_period('M')\n",
    "messages['month'] = messages['message_date'].dt.to_period('M')\n",
    "internet['month'] = internet['session_date'].dt.to_period('M')\n",
    "\n",
    "# Calcula el número de llamadas por usuario al mes\n",
    "calls_per_user = calls.groupby(['user_id', 'month']).size().reset_index(name='calls_count')\n",
    "\n",
    "# Calcula la duración total de las llamadas por usuario al mes\n",
    "minutes_per_user = calls.groupby(['user_id', 'month'])['duration'].sum().reset_index(name='total_minutes')\n",
    "\n",
    "# Calcula el número de mensajes enviados por usuario al mes\n",
    "messages_per_user = messages.groupby(['user_id', 'month']).size().reset_index(name='messages_count')\n",
    "\n",
    "# Calcula el volumen de tráfico de Internet usado por usuario al mes\n",
    "internet_per_user = internet.groupby(['user_id', 'month'])['mb_used'].sum().reset_index(name='internet_used_mb')\n",
    "\n",
    "# Fusiona los datos de llamadas, minutos, mensajes e Internet\n",
    "data = calls_per_user.merge(minutes_per_user, on=['user_id', 'month'], how='outer')\n",
    "data = data.merge(messages_per_user, on=['user_id', 'month'], how='outer')\n",
    "data = data.merge(internet_per_user, on=['user_id', 'month'], how='outer')\n",
    "\n",
    "print(\"Datos fusionados:\")\n",
    "print(data.head())"
   ]
  },
  {
   "cell_type": "code",
   "execution_count": 41,
   "metadata": {
    "id": "0dNOXHag0q1H"
   },
   "outputs": [
    {
     "name": "stdout",
     "output_type": "stream",
     "text": [
      "Columnas en plans: Index(['messages', 'mb_included', 'minutes', 'monthly_cost',\n",
      "       'extra_cost_per_gb', 'extra_cost_per_message', 'extra_cost_per_minute',\n",
      "       'plan', 'gb_per_month_included', 'cost_per_included_gb',\n",
      "       'cost_per_included_minute', 'cost_per_included_message'],\n",
      "      dtype='object')\n",
      "Datos fusionados:\n",
      "   user_id    month  calls_count  total_minutes  messages_count  \\\n",
      "0     1000  2018-12         16.0         116.83            11.0   \n",
      "1     1001  2018-08         27.0         171.14            30.0   \n",
      "2     1001  2018-09         49.0         297.69            44.0   \n",
      "3     1001  2018-10         65.0         374.11            53.0   \n",
      "4     1001  2018-11         64.0         404.59            36.0   \n",
      "\n",
      "   internet_used_mb  \n",
      "0           1901.47  \n",
      "1           6919.15  \n",
      "2          13314.82  \n",
      "3          22330.49  \n",
      "4          18504.30  \n"
     ]
    }
   ],
   "source": [
    "# Añade la información de la tarifa\n",
    "calls['call_date'] = pd.to_datetime(calls['call_date'])\n",
    "messages['message_date'] = pd.to_datetime(messages['message_date'])\n",
    "internet['session_date'] = pd.to_datetime(internet['session_date'])\n",
    "\n",
    "calls['month'] = calls['call_date'].dt.to_period('M')\n",
    "messages['month'] = messages['message_date'].dt.to_period('M')\n",
    "internet['month'] = internet['session_date'].dt.to_period('M')\n",
    "\n",
    "# Calcula el número de llamadas por usuario al mes\n",
    "calls_per_user = calls.groupby(['user_id', 'month']).size().reset_index(name='calls_count')\n",
    "\n",
    "# Calcula la duración total de las llamadas por usuario al mes\n",
    "minutes_per_user = calls.groupby(['user_id', 'month'])['duration'].sum().reset_index(name='total_minutes')\n",
    "\n",
    "# Calcula el número de mensajes enviados por usuario al mes\n",
    "messages_per_user = messages.groupby(['user_id', 'month']).size().reset_index(name='messages_count')\n",
    "\n",
    "# Calcula el volumen de tráfico de Internet usado por usuario al mes\n",
    "internet_per_user = internet.groupby(['user_id', 'month'])['mb_used'].sum().reset_index(name='internet_used_mb')\n",
    "\n",
    "# Fusiona los datos de llamadas, minutos, mensajes e Internet\n",
    "data = calls_per_user.merge(minutes_per_user, on=['user_id', 'month'], how='outer')\n",
    "data = data.merge(messages_per_user, on=['user_id', 'month'], how='outer')\n",
    "data = data.merge(internet_per_user, on=['user_id', 'month'], how='outer')\n",
    "\n",
    "# Cargar los datos de usuarios\n",
    "users = pd.read_csv('megaline_users.csv')\n",
    "\n",
    "# Asegúrate de que la columna 'plan_name'\n",
    "print(\"Columnas en plans:\", plans.columns)\n",
    "if 'plan_name' in plans.columns:\n",
    "    # Fusionar los datos agregados con la información de los usuarios y las tarifas\n",
    "    data = data.merge(users[['user_id', 'plan']], on='user_id', how='left')\n",
    "    data = data.merge(plans, left_on='plan', right_on='plan_name', how='left')\n",
    "\n",
    "print(\"Datos fusionados:\")\n",
    "print(data.head())\n"
   ]
  },
  {
   "cell_type": "code",
   "execution_count": 56,
   "metadata": {
    "id": "5FGCf_c60q1I"
   },
   "outputs": [
    {
     "name": "stdout",
     "output_type": "stream",
     "text": [
      "Resumen de ingresos mensuales por plan:\n",
      "          count        mean         std   min       25%       50%        75%  \\\n",
      "plan                                                                           \n",
      "surf      333.0  692.696572  613.618319  20.0  176.5832  518.2225  1086.0441   \n",
      "ultimate  157.0  431.322036  435.728824  70.0   70.0000  273.0000   613.4931   \n",
      "\n",
      "                max  \n",
      "plan                 \n",
      "surf      3065.7056  \n",
      "ultimate  2534.0000  \n",
      "\n",
      "Ejemplos de usuarios y sus gastos:\n",
      "   user_id      plan  minutes_used  messages_count  gb_used  ingreso_mensual\n",
      "0     1000  ultimate        116.83            11.0      2.0          70.0000\n",
      "1     1001      surf       1640.46           207.0     79.0         698.9238\n",
      "2     1002      surf        777.13            88.0     40.0         279.4539\n",
      "3     1003      surf       1041.00            50.0     27.0         156.2300\n",
      "4     1004      surf       2618.95           177.0    153.0        1467.3785\n"
     ]
    }
   ],
   "source": [
    "# Calcula el ingreso mensual para cada usuario\n",
    "calls_by_month = calls.groupby(['user_id'])['duration'].agg(['sum', 'count']).reset_index()\n",
    "calls_by_month.columns = ['user_id', 'minutes_used', 'calls_count']\n",
    "\n",
    "# Para mensajes\n",
    "messages_by_month = messages.groupby('user_id').size().reset_index(name='messages_count')\n",
    "\n",
    "# Para internet\n",
    "internet_by_month = internet.groupby('user_id')['mb_used'].sum().reset_index()\n",
    "internet_by_month['gb_used'] = np.ceil(internet_by_month['mb_used'] / 1024)\n",
    "\n",
    "# 2. Combinar todos los datos\n",
    "df = calls_by_month.merge(messages_by_month, on='user_id', how='outer')\n",
    "df = df.merge(internet_by_month[['user_id', 'gb_used']], on='user_id', how='outer')\n",
    "df = df.merge(users[['user_id', 'plan']], on='user_id', how='left')\n",
    "\n",
    "# 3. Calcular ingresos\n",
    "def calcular_ingresos(row):\n",
    "    # Costo base según el plan\n",
    "    if row['plan'] == 'surf':\n",
    "        costo_base = 20\n",
    "        minutos_incluidos = 500\n",
    "        mensajes_incluidos = 50\n",
    "        gb_incluidos = 15\n",
    "        costo_minuto_extra = 0.03\n",
    "        costo_mensaje_extra = 0.03\n",
    "        costo_gb_extra = 10\n",
    "    else:  # plan ultimate\n",
    "        costo_base = 70\n",
    "        minutos_incluidos = 3000\n",
    "        mensajes_incluidos = 1000\n",
    "        gb_incluidos = 30\n",
    "        costo_minuto_extra = 0.01\n",
    "        costo_mensaje_extra = 0.01\n",
    "        costo_gb_extra = 7\n",
    "\n",
    "    # Calcular excedentes\n",
    "    minutos_extra = max(0, row['minutes_used'] - minutos_incluidos)\n",
    "    mensajes_extra = max(0, row['messages_count'] - mensajes_incluidos)\n",
    "    gb_extra = max(0, row['gb_used'] - gb_incluidos)\n",
    "\n",
    "    # Calcular costo total\n",
    "    costo_total = (costo_base +\n",
    "                   minutos_extra * costo_minuto_extra +\n",
    "                   mensajes_extra * costo_mensaje_extra +\n",
    "                   gb_extra * costo_gb_extra)\n",
    "\n",
    "    return costo_total\n",
    "\n",
    "# Aplicar cálculo de ingresos\n",
    "df['ingreso_mensual'] = df.apply(calcular_ingresos, axis=1)\n",
    "\n",
    "# Mostrar resultados\n",
    "print(\"Resumen de ingresos mensuales por plan:\")\n",
    "print(df.groupby('plan')['ingreso_mensual'].describe())\n",
    "\n",
    "print(\"\\nEjemplos de usuarios y sus gastos:\")\n",
    "print(df[['user_id', 'plan', 'minutes_used', 'messages_count', 'gb_used', 'ingreso_mensual']].head())"
   ]
  },
  {
   "cell_type": "markdown",
   "metadata": {
    "id": "-jtyHzJb0q1I"
   },
   "source": [
    "## Estudia el comportamiento de usuario"
   ]
  },
  {
   "cell_type": "markdown",
   "metadata": {
    "id": "AxU3Y0N70q1J"
   },
   "source": [
    "[Calcula algunas estadísticas descriptivas para los datos agregados y fusionados que nos sean útiles y que muestren un panorama general captado por los datos. Dibuja gráficos útiles para facilitar la comprensión. Dado que la tarea principal es comparar las tarifas y decidir cuál es más rentable, las estadísticas y gráficas deben calcularse por tarifa.]\n",
    "\n",
    "[En los comentarios hallarás pistas relevantes para las llamadas, pero no las hay para los mensajes e Internet. Sin embargo, el principio del estudio estadístico que se aplica para ellos es el mismo que para las llamadas.]"
   ]
  },
  {
   "cell_type": "markdown",
   "metadata": {
    "id": "vtW4CJEe0q1J"
   },
   "source": [
    "### Llamadas"
   ]
  },
  {
   "cell_type": "code",
   "execution_count": 91,
   "metadata": {
    "id": "Jf5v5--k0q1J"
   },
   "outputs": [
    {
     "data": {
      "image/png": "[encoded data removed]",
      "text/plain": [
       "<Figure size 1000x600 with 1 Axes>"
      ]
     },
     "metadata": {},
     "output_type": "display_data"
    }
   ],
   "source": [
    "# Compara la duración promedio de llamadas por cada plan y por cada mes. Traza un gráfico de barras para visualizarla.\n",
    "avg_call_duration = data.groupby(['plan', 'month'])['minutes_used'].mean().reset_index()\n",
    "\n",
    "# Graficar la duración promedio de llamadas por cada plan y por cada mes\n",
    "plt.figure(figsize=(10, 6))\n",
    "for plan in avg_call_duration['plan'].unique():\n",
    "    plan_data = avg_call_duration[avg_call_duration['plan'] == plan]\n",
    "    plt.plot(plan_data['month'].astype(str), plan_data['minutes_used'], label=plan)\n",
    "\n",
    "plt.title('Duración promedio de llamadas por plan y por mes')\n",
    "plt.xlabel('Mes')\n",
    "plt.ylabel('Duración promedio de llamadas (minutos)')\n",
    "plt.legend(title='Plan')\n",
    "plt.xticks(rotation=45)\n",
    "plt.grid()\n",
    "plt.show()\n"
   ]
  },
  {
   "cell_type": "code",
   "execution_count": 92,
   "metadata": {
    "id": "QoLqW1S_0q1J"
   },
   "outputs": [
    {
     "data": {
      "image/png": "[encoded data removed]",
      "text/plain": [
       "<Figure size 1000x600 with 1 Axes>"
      ]
     },
     "metadata": {},
     "output_type": "display_data"
    }
   ],
   "source": [
    "# Compara el número de minutos mensuales que necesitan los usuarios de cada plan. Traza un histograma.\n",
    "plt.figure(figsize=(10, 6))\n",
    "for plan in data['plan'].unique():\n",
    "    plan_data = data[data['plan'] == plan]\n",
    "    plt.hist(plan_data['minutes_used'], bins=20, alpha=0.5, label=plan)\n",
    "\n",
    "plt.title('Distribución de minutos mensuales por plan')\n",
    "plt.xlabel('Minutos usados')\n",
    "plt.ylabel('Frecuencia')\n",
    "plt.legend(title='Plan')\n",
    "plt.grid()\n",
    "plt.show()\n"
   ]
  },
  {
   "cell_type": "code",
   "execution_count": 93,
   "metadata": {
    "id": "oSndbAnt0q1K"
   },
   "outputs": [
    {
     "name": "stdout",
     "output_type": "stream",
     "text": [
      "Media y varianza de la duración mensual de llamadas por plan:\n",
      "       plan        mean           var\n",
      "0      surf  412.097890  47001.254231\n",
      "1  ultimate  410.180954  50510.631705\n"
     ]
    }
   ],
   "source": [
    "# Calcula la media y la varianza de la duración mensual de llamadas.\n",
    "call_stats = data.groupby('plan')['minutes_used'].agg(['mean', 'var']).reset_index()\n",
    "print(\"Media y varianza de la duración mensual de llamadas por plan:\")\n",
    "print(call_stats)\n"
   ]
  },
  {
   "cell_type": "code",
   "execution_count": 98,
   "metadata": {
    "id": "nZzoRUKc0q1K"
   },
   "outputs": [
    {
     "data": {
      "text/plain": [
       "<Figure size 1000x600 with 0 Axes>"
      ]
     },
     "metadata": {},
     "output_type": "display_data"
    },
    {
     "data": {
      "image/png": "[encoded data removed]",
      "text/plain": [
       "<Figure size 800x550 with 1 Axes>"
      ]
     },
     "metadata": {},
     "output_type": "display_data"
    }
   ],
   "source": [
    "# Traza un diagrama de caja para visualizar la distribución de la duración mensual de llamadas\n",
    "plt.figure(figsize=(10, 6))\n",
    "data.boxplot(column='minutes_used', by='plan', grid=False)\n",
    "plt.title('Distribución de la duración mensual de llamadas por plan')\n",
    "plt.suptitle('')  # Eliminar el título automático de pandas\n",
    "plt.xlabel('Plan')\n",
    "plt.ylabel('Duración mensual de llamadas (minutos)')\n",
    "plt.show()\n"
   ]
  },
  {
   "cell_type": "markdown",
   "metadata": {
    "id": "r627zBO50q1K"
   },
   "source": [
    "Los usuarios del plan \"surf\" hacen menos llamadas y consumen menos minutos, mientras que el plan \"surf\" consume menos minutos. El plan \"ultimate\" consume más minutos incluidos, ya que los usuarios del plan \"surf\" hacen menos llamadas y consumen menos minutos. El plan \"surf\" consume menos minutos, por lo que el plan \"ultimate\" consume más minutos incluidos."
   ]
  },
  {
   "cell_type": "markdown",
   "metadata": {
    "id": "8idKy8Wh0q1L"
   },
   "source": [
    "### Mensajes"
   ]
  },
  {
   "cell_type": "code",
   "execution_count": 106,
   "metadata": {
    "id": "NXLxiTit0q1L"
   },
   "outputs": [
    {
     "name": "stdout",
     "output_type": "stream",
     "text": [
      "Número promedio de mensajes enviados por mes por plan:\n",
      "       plan  messages_sent\n",
      "0      surf      37.965918\n",
      "1  ultimate      44.106036\n"
     ]
    }
   ],
   "source": [
    "# Comprara el número de mensajes que tienden a enviar cada mes los usuarios de cada plan\n",
    "messages['message_date'] = pd.to_datetime(messages['message_date'])\n",
    "\n",
    "# Agregar una columna para el mes\n",
    "messages['month'] = messages['message_date'].dt.month\n",
    "\n",
    "# Calcular el número de mensajes enviados por usuario y mes\n",
    "messages_per_user = messages.groupby(['user_id', 'month']).size().reset_index(name='messages_sent')\n",
    "\n",
    "# Unir los datos de mensajes con los datos de usuarios\n",
    "data = pd.merge(users, messages_per_user, on='user_id', how='left')\n",
    "\n",
    "# Reemplazar valores NaN en 'messages_sent' con 0 (usuarios que no enviaron mensajes)\n",
    "data['messages_sent'] = data['messages_sent'].fillna(0)\n",
    "\n",
    "# Comparar el número promedio de mensajes enviados por mes por plan\n",
    "messages_stats = data.groupby('plan')['messages_sent'].mean().reset_index()\n",
    "print(\"Número promedio de mensajes enviados por mes por plan:\")\n",
    "print(messages_stats)\n"
   ]
  },
  {
   "cell_type": "code",
   "execution_count": 108,
   "metadata": {
    "id": "GRI_R7xF0q1L"
   },
   "outputs": [
    {
     "name": "stdout",
     "output_type": "stream",
     "text": [
      "Tráfico promedio de Internet consumido por mes por plan (en MB):\n",
      "       plan       mb_used\n",
      "0      surf  16642.926473\n",
      "1  ultimate  17143.269405\n"
     ]
    },
    {
     "data": {
      "image/png": "[encoded data removed]",
      "text/plain": [
       "<Figure size 800x500 with 1 Axes>"
      ]
     },
     "metadata": {},
     "output_type": "display_data"
    }
   ],
   "source": [
    "# Compara la cantidad de tráfico de Internet consumido por usuarios por plan\n",
    "\n",
    "internet['session_date'] = pd.to_datetime(internet['session_date'])\n",
    "\n",
    "# Agregar una columna para el mes\n",
    "internet['month'] = internet['session_date'].dt.month\n",
    "\n",
    "# Calcular el tráfico de Internet consumido por usuario y mes\n",
    "internet_per_user = internet.groupby(['user_id', 'month'])['mb_used'].sum().reset_index()\n",
    "\n",
    "# Unir los datos de tráfico de Internet con los datos de usuarios\n",
    "data = pd.merge(users, internet_per_user, on='user_id', how='left')\n",
    "\n",
    "# Reemplazar valores NaN en 'mb_used' con 0 (usuarios que no usaron Internet)\n",
    "data['mb_used'] = data['mb_used'].fillna(0)\n",
    "\n",
    "# Comparar el tráfico promedio de Internet consumido por mes por plan\n",
    "internet_stats = data.groupby('plan')['mb_used'].mean().reset_index()\n",
    "print(\"Tráfico promedio de Internet consumido por mes por plan (en MB):\")\n",
    "print(internet_stats)\n",
    "\n",
    "plt.figure(figsize=(8, 5))\n",
    "plt.bar(internet_stats['plan'], internet_stats['mb_used'], color=['lightgreen', 'salmon'])\n",
    "plt.title('Tráfico promedio de Internet consumido por mes por plan')\n",
    "plt.xlabel('Plan')\n",
    "plt.ylabel('Tráfico de Internet (MB)')\n",
    "plt.grid(axis='y', linestyle='--', alpha=0.7)\n",
    "plt.show()"
   ]
  },
  {
   "cell_type": "code",
   "execution_count": 109,
   "metadata": {
    "id": "dtFwCGAp0q1M"
   },
   "outputs": [
    {
     "data": {
      "text/plain": [
       "<Figure size 1000x600 with 0 Axes>"
      ]
     },
     "metadata": {},
     "output_type": "display_data"
    },
    {
     "data": {
      "image/png": "[encoded data removed]",
      "text/plain": [
       "<Figure size 800x550 with 1 Axes>"
      ]
     },
     "metadata": {},
     "output_type": "display_data"
    }
   ],
   "source": [
    "#graficar\n",
    "plt.figure(figsize=(10, 6))\n",
    "data.boxplot(column='mb_used', by='plan', grid=False, patch_artist=True,\n",
    "             boxprops=dict(facecolor='lightgreen', color='green'),\n",
    "             medianprops=dict(color='red'))\n",
    "plt.title('Distribución del tráfico de Internet consumido por mes por plan')\n",
    "plt.suptitle('')  # Eliminar el título automático de pandas\n",
    "plt.xlabel('Plan')\n",
    "plt.ylabel('Tráfico de Internet consumido (MB)')\n",
    "plt.show()"
   ]
  },
  {
   "cell_type": "markdown",
   "metadata": {
    "id": "390SSL480q1M"
   },
   "source": [
    " #Respuesta: Los usuarios del plan \"Ultimate\" envían más mensajes en promedio que los usuarios del plan \"Surf\", lo que significa que el comportamiento depende del plan. El plan \"Ultimate\" incluye más mensajes cada mes, lo que incentiva a los usuarios a usar más."
   ]
  },
  {
   "cell_type": "markdown",
   "metadata": {
    "id": "42YSypXz0q1M"
   },
   "source": [
    "### Internet"
   ]
  },
  {
   "cell_type": "code",
   "execution_count": 59,
   "metadata": {
    "id": "wnh8jYXi0q1N"
   },
   "outputs": [
    {
     "name": "stdout",
     "output_type": "stream",
     "text": [
      "Número de usuarios únicos de internet por mes y por plan:\n",
      "      month      plan  unique_users\n",
      "0   2018-01      surf             2\n",
      "1   2018-01  ultimate             4\n",
      "2   2018-02      surf             9\n",
      "3   2018-02  ultimate             7\n",
      "4   2018-03      surf            23\n",
      "5   2018-03  ultimate            12\n",
      "6   2018-04      surf            49\n",
      "7   2018-04  ultimate            21\n",
      "8   2018-05      surf            76\n",
      "9   2018-05  ultimate            29\n",
      "10  2018-06      surf            95\n",
      "11  2018-06  ultimate            47\n",
      "12  2018-07      surf           120\n",
      "13  2018-07  ultimate            59\n",
      "14  2018-08      surf           159\n",
      "15  2018-08  ultimate            71\n",
      "16  2018-09      surf           193\n",
      "17  2018-09  ultimate            86\n",
      "18  2018-10      surf           234\n",
      "19  2018-10  ultimate           105\n",
      "20  2018-11      surf           281\n",
      "21  2018-11  ultimate           127\n",
      "22  2018-12      surf           317\n",
      "23  2018-12  ultimate           151\n"
     ]
    }
   ],
   "source": [
    "# Comprara el número de usuarios de internet de cada mes los usuarios de cada plan\n",
    "internet['month'] = pd.to_datetime(internet['session_date']).dt.to_period('M')\n",
    "\n",
    "# Combinar los datos de internet con los datos de usuarios para obtener el plan de cada usuario\n",
    "internet_with_plan = internet.merge(users[['user_id', 'plan']], on='user_id', how='left')\n",
    "\n",
    "# Contar el número de usuarios únicos de internet por mes y por plan\n",
    "internet_users_by_plan = internet_with_plan.groupby(['month', 'plan'])['user_id'].nunique().reset_index()\n",
    "internet_users_by_plan.columns = ['month', 'plan', 'unique_users']\n",
    "\n",
    "# Mostrar los resultados\n",
    "print(\"Número de usuarios únicos de internet por mes y por plan:\")\n",
    "print(internet_users_by_plan)\n"
   ]
  },
  {
   "cell_type": "code",
   "execution_count": 62,
   "metadata": {
    "id": "5VlyJ9ry0q1N"
   },
   "outputs": [
    {
     "name": "stdout",
     "output_type": "stream",
     "text": [
      "Estadísticas de consumo de Internet por plan (en GB):\n",
      "          mean  median  count       sum\n",
      "plan                                   \n",
      "surf      0.36    0.33  71586  25435.72\n",
      "ultimate  0.36    0.34  33239  12104.09\n"
     ]
    },
    {
     "data": {
      "image/png": "[encoded data removed]",
      "text/plain": [
       "<Figure size 1200x600 with 1 Axes>"
      ]
     },
     "metadata": {},
     "output_type": "display_data"
    }
   ],
   "source": [
    "# Compara la cantidad de tráfico de Internet consumido por usuarios por plan\n",
    "internet_with_plan = internet.merge(users[['user_id', 'plan']], on='user_id', how='left')\n",
    "\n",
    "# 2. Calcular el consumo total de GB por usuario\n",
    "internet_with_plan['gb_used'] = internet_with_plan['mb_used'] / 1024\n",
    "\n",
    "# 3. Calcular estadísticas descriptivas por plan\n",
    "traffic_by_plan = internet_with_plan.groupby('plan')['gb_used'].agg([\n",
    "    'mean', 'median', 'count', 'sum'\n",
    "]).round(2)\n",
    "\n",
    "print(\"Estadísticas de consumo de Internet por plan (en GB):\")\n",
    "print(traffic_by_plan)\n",
    "\n",
    "plt.figure(figsize=(12, 6))\n",
    "\n",
    "# Gráfico de violín\n",
    "plt.subplot(1, 2, 2)\n",
    "sns.violinplot(data=internet_with_plan, x='plan', y='gb_used')\n",
    "plt.title('Densidad del consumo de Internet por plan')\n",
    "plt.xlabel('Plan')\n",
    "plt.ylabel('GB utilizados')\n",
    "\n",
    "plt.tight_layout()\n",
    "plt.show()\n",
    "\n",
    "# 5. Calcular el consumo promedio mensual por usuario\n",
    "internet_with_plan['month'] = pd.to_datetime(internet_with_plan['session_date']).dt.to_period('M')\n",
    "monthly_usage = internet_with_plan.groupby(['month', 'plan'])['gb_used'].mean().reset_index()\n"
   ]
  },
  {
   "cell_type": "code",
   "execution_count": 63,
   "metadata": {},
   "outputs": [
    {
     "data": {
      "image/png": "[encoded data removed]",
      "text/plain": [
       "<Figure size 1200x600 with 1 Axes>"
      ]
     },
     "metadata": {},
     "output_type": "display_data"
    },
    {
     "name": "stdout",
     "output_type": "stream",
     "text": [
      "\n",
      "Estadísticas descriptivas del consumo mensual de Internet por plan (GB):\n",
      "           count   mean   std   min    25%    50%    75%    max\n",
      "plan                                                           \n",
      "surf      1558.0  16.33  7.70  0.09  11.90  16.53  20.55  69.27\n",
      "ultimate   719.0  16.83  7.65  0.23  12.37  16.47  20.53  45.50\n"
     ]
    }
   ],
   "source": [
    "# Traza un diagrama de caja para visualizar la distribución de la duración mensual de Internet \n",
    "internet['month'] = pd.to_datetime(internet['session_date']).dt.to_period('M')\n",
    "\n",
    "# Combinar con información de usuarios para obtener el plan\n",
    "internet_with_plan = internet.merge(users[['user_id', 'plan']], on='user_id', how='left')\n",
    "\n",
    "# Convertir MB a GB para mejor visualización\n",
    "internet_with_plan['gb_used'] = internet_with_plan['mb_used'] / 1024\n",
    "\n",
    "# 2. Calcular el uso mensual por usuario\n",
    "monthly_usage = internet_with_plan.groupby(['user_id', 'month', 'plan'])['gb_used'].sum().reset_index()\n",
    "\n",
    "# 3. Crear el diagrama de caja\n",
    "plt.figure(figsize=(12, 6))\n",
    "sns.boxplot(data=monthly_usage, x='month', y='gb_used', hue='plan')\n",
    "\n",
    "# Personalizar el gráfico\n",
    "plt.title('Distribución del consumo mensual de Internet por plan', pad=20)\n",
    "plt.xlabel('Mes')\n",
    "plt.ylabel('Consumo de datos (GB)')\n",
    "plt.xticks(rotation=45)\n",
    "plt.legend(title='Plan')\n",
    "plt.grid(True, alpha=0.3)\n",
    "\n",
    "# Ajustar márgenes\n",
    "plt.tight_layout()\n",
    "\n",
    "# Mostrar el gráfico\n",
    "plt.show()\n",
    "\n",
    "# 4. Mostrar estadísticas descriptivas\n",
    "print(\"\\nEstadísticas descriptivas del consumo mensual de Internet por plan (GB):\")\n",
    "print(monthly_usage.groupby('plan')['gb_used'].describe().round(2))"
   ]
  },
  {
   "cell_type": "markdown",
   "metadata": {
    "id": "UN9zwuMP0q1N"
   },
   "source": [
    "#respuesta: Los datos indican que el comportamiento de consumo es sorprendentemente similar entre ambos planes, con diferencias mínimas en los patrones de uso. La principal distinción radica en la popularidad del plan surf, que atrae consistentemente más usuarios, posiblemente debido a su menor costo mensual, a pesar de tener límites más bajos de datos incluidos."
   ]
  },
  {
   "cell_type": "markdown",
   "metadata": {
    "id": "tCijq3260q1N"
   },
   "source": [
    "## Ingreso"
   ]
  },
  {
   "cell_type": "markdown",
   "metadata": {
    "id": "9nq5IAcy0q1O"
   },
   "source": [
    "#respuesta: El plan surf depende más de los ingresos por excedentes, mientras que el plan ultimate se basa principalmente en su tarifa mensual fija."
   ]
  },
  {
   "cell_type": "code",
   "execution_count": 65,
   "metadata": {
    "id": "tz-dq_V00q1O"
   },
   "outputs": [
    {
     "name": "stdout",
     "output_type": "stream",
     "text": [
      "\n",
      "Estadísticas de ingresos por plan (USD):\n",
      "         revenue            \n",
      "           count mean    sum\n",
      "plan                        \n",
      "surf         339   20   6780\n",
      "ultimate     161   70  11270\n",
      "\n",
      "Ingreso total por plan (USD):\n",
      "plan\n",
      "surf         6780\n",
      "ultimate    11270\n",
      "Name: revenue, dtype: int64\n"
     ]
    }
   ],
   "source": [
    "# Comprara el número de ingresos de cada mes los usuarios de cada plan\n",
    "def calculate_revenue(row, plans_data):\n",
    "    plan = row['plan']\n",
    "    plan_info = plans_data[plans_data['plan_name'] == plan].iloc[0]\n",
    "\n",
    "    # Costo base mensual\n",
    "    revenue = plan_info['usd_monthly_pay']\n",
    "\n",
    "    # Calcular excedentes de minutos\n",
    "    minutes = row['minutes']\n",
    "    if minutes > plan_info['minutes_included']:\n",
    "        extra_minutes = minutes - plan_info['minutes_included']\n",
    "        revenue += extra_minutes * plan_info['usd_per_minute']\n",
    "\n",
    "    # Calcular excedentes de mensajes\n",
    "    messages = row['messages']\n",
    "    if messages > plan_info['messages_included']:\n",
    "        extra_messages = messages - plan_info['messages_included']\n",
    "        revenue += extra_messages * plan_info['usd_per_message']\n",
    "\n",
    "    # Calcular excedentes de datos\n",
    "    mb_used = row['mb_used']\n",
    "    if mb_used > plan_info['mb_per_month_included']:\n",
    "        extra_gb = (mb_used - plan_info['mb_per_month_included']) / 1024\n",
    "        revenue += extra_gb * plan_info['usd_per_gb']\n",
    "\n",
    "    return revenue\n",
    "\n",
    "# Leer datos de planes\n",
    "plans = pd.read_csv('megaline_plans.csv')\n",
    "\n",
    "# Agregar datos mensuales por usuario\n",
    "monthly_usage = pd.DataFrame()\n",
    "monthly_usage['user_id'] = users['user_id']\n",
    "monthly_usage['plan'] = users['plan']\n",
    "\n",
    "# Agregar uso mensual de minutos\n",
    "monthly_usage['minutes'] = calls.groupby('user_id')['duration'].sum()\n",
    "\n",
    "# Agregar uso mensual de mensajes\n",
    "monthly_usage['messages'] = messages.groupby('user_id')['user_id'].count()\n",
    "\n",
    "# Agregar uso mensual de datos\n",
    "monthly_usage['mb_used'] = internet.groupby('user_id')['mb_used'].sum()\n",
    "\n",
    "# Calcular ingresos por usuario\n",
    "monthly_usage['revenue'] = monthly_usage.apply(lambda x: calculate_revenue(x, plans), axis=1)\n",
    "\n",
    "# Agrupar por plan y calcular estadísticas\n",
    "revenue_by_plan = monthly_usage.groupby('plan').agg({\n",
    "    'revenue': ['count', 'mean', 'sum']\n",
    "}).round(2)\n",
    "\n",
    "print(\"\\nEstadísticas de ingresos por plan (USD):\")\n",
    "print(revenue_by_plan)\n",
    "\n",
    "# Calcular ingreso total por plan\n",
    "total_revenue = monthly_usage.groupby('plan')['revenue'].sum()\n",
    "print(\"\\nIngreso total por plan (USD):\")\n",
    "print(total_revenue)"
   ]
  },
  {
   "cell_type": "code",
   "execution_count": 72,
   "metadata": {
    "id": "0Y1v8ZUz0q1P"
   },
   "outputs": [
    {
     "name": "stdout",
     "output_type": "stream",
     "text": [
      "\n",
      "Estadísticas de ingresos por plan:\n",
      "          Usuarios  Promedio  Total\n",
      "plan                               \n",
      "surf           339        20   6780\n",
      "ultimate       161        70  11270\n"
     ]
    },
    {
     "data": {
      "image/png": "[encoded data removed]",
      "text/plain": [
       "<Figure size 1500x600 with 2 Axes>"
      ]
     },
     "metadata": {},
     "output_type": "display_data"
    }
   ],
   "source": [
    "# Compara la cantidad de ingresos por usuarios por plan\n",
    "plans_data = {\n",
    "    'surf': {'base': 20, 'min_included': 500, 'msg_included': 50, 'mb_included': 15360},\n",
    "    'ultimate': {'base': 70, 'min_included': 3000, 'msg_included': 1000, 'mb_included': 30720}\n",
    "}\n",
    "\n",
    "# Calcular ingresos mensuales por usuario\n",
    "def calculate_user_revenue(row):\n",
    "    plan = row['plan']\n",
    "    base = plans_data[plan]['base']\n",
    "\n",
    "    # Calcular excesos y sus costos\n",
    "    if plan == 'surf':\n",
    "        extra_min_cost = 0.03\n",
    "        extra_msg_cost = 0.03\n",
    "        extra_gb_cost = 10\n",
    "    else:  # ultimate\n",
    "        extra_min_cost = 0.01\n",
    "        extra_msg_cost = 0.01\n",
    "        extra_gb_cost = 7\n",
    "\n",
    "    revenue = base\n",
    "    return revenue\n",
    "\n",
    "# Preparar datos\n",
    "monthly_data = users[['user_id', 'plan']].copy()\n",
    "monthly_data['revenue'] = monthly_data.apply(calculate_user_revenue, axis=1)\n",
    "\n",
    "# Calcular estadísticas por plan\n",
    "revenue_stats = monthly_data.groupby('plan').agg({\n",
    "    'revenue': ['count', 'mean', 'sum']\n",
    "}).round(2)\n",
    "\n",
    "revenue_stats.columns = ['Usuarios', 'Promedio', 'Total']\n",
    "\n",
    "# Crear gráficos de barras\n",
    "fig, (ax1, ax2) = plt.subplots(1, 2, figsize=(15, 6))\n",
    "\n",
    "# Gráfico 1: Ingreso promedio por plan\n",
    "revenue_stats['Promedio'].plot(kind='bar', ax=ax1, color=['skyblue', 'lightgreen'])\n",
    "ax1.set_title('Ingreso Promedio por Plan')\n",
    "ax1.set_ylabel('USD')\n",
    "ax1.grid(True, alpha=0.3)\n",
    "\n",
    "# Gráfico 2: Ingreso total por plan\n",
    "revenue_stats['Total'].plot(kind='bar', ax=ax2, color=['skyblue', 'lightgreen'])\n",
    "ax2.set_title('Ingreso Total por Plan')\n",
    "ax2.set_ylabel('USD')\n",
    "ax2.grid(True, alpha=0.3)\n",
    "\n",
    "# Ajustar diseño\n",
    "plt.tight_layout()\n",
    "\n",
    "print(\"\\nEstadísticas de ingresos por plan:\")\n",
    "print(revenue_stats)\n",
    "plt.show()"
   ]
  },
  {
   "cell_type": "code",
   "execution_count": 80,
   "metadata": {
    "id": "bYmwxyVh0q1P"
   },
   "outputs": [
    {
     "name": "stdout",
     "output_type": "stream",
     "text": [
      "\n",
      "Estadísticas de ingresos mensuales por plan (USD):\n",
      "          count    mean    std   min    25%     50%      75%      max\n",
      "plan                                                                 \n",
      "surf      339.0  676.39  614.0  20.0  152.2  505.85  1071.86  3057.65\n",
      "ultimate  161.0  419.78  433.1  70.0   70.0  260.46   590.27  2527.10\n"
     ]
    },
    {
     "data": {
      "image/png": "[encoded data removed]",
      "text/plain": [
       "<Figure size 1000x600 with 1 Axes>"
      ]
     },
     "metadata": {},
     "output_type": "display_data"
    }
   ],
   "source": [
    "# Traza un diagrama de caja para visualizar la distribución de la duración mensual de ingresos\n",
    "plans = {\n",
    "    'surf': {\n",
    "        'messages_included': 50,\n",
    "        'mb_per_month_included': 15360,\n",
    "        'minutes_included': 500,\n",
    "        'usd_monthly_pay': 20,\n",
    "        'usd_per_gb': 10,\n",
    "        'usd_per_message': 0.03,\n",
    "        'usd_per_minute': 0.03\n",
    "    },\n",
    "    'ultimate': {\n",
    "        'messages_included': 1000,\n",
    "        'mb_per_month_included': 30720,\n",
    "        'minutes_included': 3000,\n",
    "        'usd_monthly_pay': 70,\n",
    "        'usd_per_gb': 7,\n",
    "        'usd_per_message': 0.01,\n",
    "        'usd_per_minute': 0.01\n",
    "    }\n",
    "}\n",
    "\n",
    "# 3. Función para calcular ingresos mensuales\n",
    "def calculate_monthly_revenue(row):\n",
    "    plan = plans[row['plan'].lower()]\n",
    "\n",
    "    # Costo base\n",
    "    revenue = plan['usd_monthly_pay']\n",
    "\n",
    "    # Calcular excesos de minutos\n",
    "    minutes = calls[calls['user_id'] == row['user_id']]['duration'].sum()\n",
    "    if minutes > plan['minutes_included']:\n",
    "        revenue += (minutes - plan['minutes_included']) * plan['usd_per_minute']\n",
    "\n",
    "    # Calcular excesos de mensajes\n",
    "    message_count = messages[messages['user_id'] == row['user_id']].shape[0]\n",
    "    if message_count > plan['messages_included']:\n",
    "        revenue += (message_count - plan['messages_included']) * plan['usd_per_message']\n",
    "\n",
    "    # Calcular excesos de datos\n",
    "    mb_used = internet[internet['user_id'] == row['user_id']]['mb_used'].sum()\n",
    "    if mb_used > plan['mb_per_month_included']:\n",
    "        gb_over = (mb_used - plan['mb_per_month_included']) / 1024\n",
    "        revenue += gb_over * plan['usd_per_gb']\n",
    "\n",
    "    return revenue\n",
    "\n",
    "# 4. Calcular ingresos para cada usuario\n",
    "revenue_data = []\n",
    "for _, user in users.iterrows():\n",
    "    revenue = calculate_monthly_revenue(user)\n",
    "    revenue_data.append({\n",
    "        'user_id': user['user_id'],\n",
    "        'plan': user['plan'],\n",
    "        'revenue': revenue\n",
    "    })\n",
    "\n",
    "revenue_df = pd.DataFrame(revenue_data)\n",
    "\n",
    "# 5. Crear el diagrama de caja\n",
    "plt.figure(figsize=(10, 6))\n",
    "sns.boxplot(data=revenue_df, x='plan', y='revenue', palette=['lightblue', 'lightgreen'])\n",
    "\n",
    "# 6. Personalizar el gráfico\n",
    "plt.title('Distribución de Ingresos Mensuales por Plan')\n",
    "plt.xlabel('Plan')\n",
    "plt.ylabel('Ingresos Mensuales (USD)')\n",
    "plt.grid(True, alpha=0.3)\n",
    "\n",
    "# 7. Mostrar estadísticas descriptivas\n",
    "print(\"\\nEstadísticas de ingresos mensuales por plan (USD):\")\n",
    "print(revenue_df.groupby('plan')['revenue'].describe().round(2))\n",
    "\n",
    "plt.show()"
   ]
  },
  {
   "cell_type": "markdown",
   "metadata": {
    "id": "KAFidcXZ0q1P"
   },
   "source": [
    "#respuesta: Los resultados también revelan diferencias significativas en la distribución y estructura de los ingresos de Surf y Ultimate. Los ingresos de Surf tienen un coste base más bajo y dependen más de los ingresos excedentes, lo que resulta en una desviación estándar más alta y un rango de valores más amplio (entre 20 USD y más de 3000 USD). Los ingresos de Ultimate tienen un coste base más alto, una dependencia relativamente menor de los ingresos excedentes y un rango de valores más estrecho (entre 70 USD y aproximadamente 2500 USD), debido a su menor variabilidad debido a su estructura de costes. La mediana es menor que la de Surf; en resumen, Surf genera más, pero solo con usuarios frecuentes; por lo tanto, Ultimate genera ingresos de forma más consistente, debido a sus altos costes fijos, lo que resulta en un flujo de ingresos más estable.\n"
   ]
  },
  {
   "cell_type": "markdown",
   "metadata": {
    "id": "ajJ7VKeI0q1Q"
   },
   "source": [
    "## Prueba las hipótesis estadísticas"
   ]
  },
  {
   "cell_type": "markdown",
   "metadata": {
    "id": "IQwa_hsh0q1Q"
   },
   "source": [
    "hipotesis: Para comprobar si los ingresos promedio de los usuarios de los planes Ultimate y Surf son diferentes, procedemos de la siguiente manera:\n",
    "\n",
    "Hipótesis :\n",
    "Hipótesis Nula (H₀): El ingreso promedio de los usuarios del plan Ultimate es igual al ingreso promedio de los usuarios del plan Surf. Matemáticamente, H₀: μ₁ = μ₂, donde μ₁ es el ingreso promedio de los usuarios del plan Ultimate y μ₂ es el ingreso promedio de los usuarios del plan Surf.\n",
    "Hipótesis Alternativa (H₁): El ingreso promedio de los usuarios del plan Ultimate no es igual al ingreso promedio de los usuarios del plan Surf. Matemáticamente, H₁: μ₁ ≠ μ₂.\n",
    "Prueba estadística :\n",
    "Dado que comparamos las medias de dos grupos independientes (ingresos de Ultimate y Surf), la prueba adecuada es la prueba t de dos muestras independientes . Esta prueba asume que los datos se distribuyen aproximadamente de forma normal y que las varianzas de ambos grupos son iguales (o utiliza una corrección si no lo son).\n",
    "Nivel de significancia (α) :\n",
    "Fijamos el nivel de significancia (α) en 0,05. Esto significa que aceptamos una probabilidad del 5 % de rechazar incorrectamente la hipótesis nula (error de tipo I). Si el valor p de la prueba es menor que α, rechazamos la hipótesis nula.\n",
    "Realizar la prueba :\n",
    "Con los datos de ingresos de ambos planes, calculamos el estadístico t y el valor p. Si el valor p es menor que 0,05, rechazamos la hipótesis nula y concluimos que los ingresos promedio son significativamente diferentes. En caso contrario, no rechazamos la hipótesis nula."
   ]
  },
  {
   "cell_type": "code",
   "execution_count": 102,
   "metadata": {
    "id": "nFoPNlPq0q1R"
   },
   "outputs": [
    {
     "name": "stdout",
     "output_type": "stream",
     "text": [
      "T-statistic: 5.38\n",
      "P-value: 0.0000\n",
      "Rechazamos la hipótesis nula. Los ingresos promedio de los dos planes son significativamente diferentes.\n"
     ]
    }
   ],
   "source": [
    "# Prueba las hipótesis\n",
    "plans = pd.read_csv('megaline_plans.csv')\n",
    "plans.rename(columns={plans.columns[-1]: 'plan_name'}, inplace=True)  # Renombrar la última columna como 'plan_name'\n",
    "\n",
    "# Asegurarse de que las columnas coincidan correctamente\n",
    "users['plan'] = users['plan'].str.strip().str.lower()  # Limpiar y estandarizar la columna 'plan'\n",
    "plans['plan_name'] = plans['plan_name'].str.strip().str.lower()  # Limpiar y estandarizar la columna 'plan_name'\n",
    "\n",
    "# Unir los datos de los planes con los usuarios\n",
    "users = users.merge(plans, left_on='plan', right_on='plan_name')\n",
    "\n",
    "# Función para calcular ingresos mensuales\n",
    "def calculate_monthly_revenue(row):\n",
    "    revenue = row['usd_monthly_pay']\n",
    "\n",
    "    # Calcular excesos de minutos\n",
    "    user_calls = calls[calls['user_id'] == row['user_id']]\n",
    "    total_minutes = user_calls['duration'].sum()\n",
    "    if total_minutes > row['minutes_included']:\n",
    "        revenue += (total_minutes - row['minutes_included']) * row['usd_per_minute']\n",
    "\n",
    "    # Calcular excesos de mensajes\n",
    "    user_messages = messages[messages['user_id'] == row['user_id']]\n",
    "    total_messages = user_messages.shape[0]\n",
    "    if total_messages > row['messages_included']:\n",
    "        revenue += (total_messages - row['messages_included']) * row['usd_per_message']\n",
    "\n",
    "    # Calcular excesos de datos\n",
    "    user_internet = internet[internet['user_id'] == row['user_id']]\n",
    "    total_mb = user_internet['mb_used'].sum()\n",
    "    if total_mb > row['mb_per_month_included']:\n",
    "        total_gb_over = (total_mb - row['mb_per_month_included']) / 1024\n",
    "        revenue += total_gb_over * row['usd_per_gb']\n",
    "\n",
    "    return revenue\n",
    "\n",
    "# Calcular ingresos para cada usuario\n",
    "users['revenue'] = users.apply(calculate_monthly_revenue, axis=1)\n",
    "\n",
    "# Separar los ingresos por plan\n",
    "surf_revenues = users[users['plan'] == 'surf']['revenue']\n",
    "ultimate_revenues = users[users['plan'] == 'ultimate']['revenue']\n",
    "\n",
    "# Realizar la prueba t de dos muestras independientes\n",
    "t_stat, p_value = ttest_ind(surf_revenues, ultimate_revenues, equal_var=False)\n",
    "\n",
    "# Imprimir los resultados\n",
    "print(f\"T-statistic: {t_stat:.2f}\")\n",
    "print(f\"P-value: {p_value:.4f}\")\n",
    "\n",
    "# Interpretar los resultados\n",
    "alpha = 0.05\n",
    "if p_value < alpha:\n",
    "    print(\"Rechazamos la hipótesis nula. Los ingresos promedio de los dos planes son significativamente diferentes.\")\n",
    "else:\n",
    "    print(\"No rechazamos la hipótesis nula. No hay una diferencia significativa en los ingresos promedio de los dos planes.\")"
   ]
  },
  {
   "cell_type": "markdown",
   "metadata": {
    "id": "LsBgitqj0q1R"
   },
   "source": [
    "Hipótesis nula: El ingreso promedio de los usuarios de NY-NJ es igual al ingreso promedio de todos los demás usuarios (H₀: μ₁ = μ₂) e hipótesis alternativa: El ingreso promedio de los usuarios de NY-NJ no es igual al ingreso promedio de todos los demás usuarios (H₁: μ₁ ≠ μ₂) porque estamos comparando dos grupos.\n",
    "Prueba: Se utiliza la prueba t para muestras independientes de dos muestras (prueba para la diferencia de las medias de dos grupos independientes); por lo tanto, el nivel de significancia es α = 0,05."
   ]
  },
  {
   "cell_type": "code",
   "execution_count": 105,
   "metadata": {
    "id": "Cqcj7wrZ0q1S"
   },
   "outputs": [
    {
     "name": "stdout",
     "output_type": "stream",
     "text": [
      "Columnas de plans: Index(['messages_included', 'mb_per_month_included', 'minutes_included',\n",
      "       'usd_monthly_pay', 'usd_per_gb', 'usd_per_message', 'usd_per_minute',\n",
      "       'plan_name'],\n",
      "      dtype='object')\n",
      "Columnas de users después del merge: Index(['user_id', 'first_name', 'last_name', 'age', 'city', 'reg_date', 'plan',\n",
      "       'churn_date', 'revenue', 'messages_included_x',\n",
      "       'mb_per_month_included_x', 'minutes_included_x', 'usd_monthly_pay_x',\n",
      "       'usd_per_gb_x', 'usd_per_message_x', 'usd_per_minute_x', 'plan_name_x',\n",
      "       'messages_included_y', 'mb_per_month_included_y', 'minutes_included_y',\n",
      "       'usd_monthly_pay_y', 'usd_per_gb_y', 'usd_per_message_y',\n",
      "       'usd_per_minute_y', 'plan_name_y', 'messages_included',\n",
      "       'mb_per_month_included', 'minutes_included', 'usd_monthly_pay',\n",
      "       'usd_per_gb', 'usd_per_message', 'usd_per_minute', 'plan_name'],\n",
      "      dtype='object')\n",
      "T-statistic: 1.11\n",
      "P-value: 0.2704\n",
      "No rechazamos la hipótesis nula. No hay una diferencia significativa en los ingresos promedio de los usuarios del área NY-NJ y otras regiones.\n"
     ]
    }
   ],
   "source": [
    "# Prueba las hipótesis\n",
    "print(\"Columnas de plans:\", plans.columns)\n",
    "\n",
    "# Unir los datos de los planes con los usuarios\n",
    "users = users.merge(plans, left_on='plan', right_on='plan_name', how='left')\n",
    "\n",
    "# Verificar las columnas de users después del merge\n",
    "print(\"Columnas de users después del merge:\", users.columns)\n",
    "\n",
    "# Función para calcular ingresos mensuales\n",
    "def calculate_monthly_revenue(row):\n",
    "    revenue = row['usd_monthly_pay']  # Asegurarse de que esta columna exista\n",
    "\n",
    "    # Calcular excesos de minutos\n",
    "    user_calls = calls[calls['user_id'] == row['user_id']]\n",
    "    total_minutes = user_calls['duration'].sum()\n",
    "    if total_minutes > row['minutes_included']:\n",
    "        revenue += (total_minutes - row['minutes_included']) * row['usd_per_minute']\n",
    "\n",
    "    # Calcular excesos de mensajes\n",
    "    user_messages = messages[messages['user_id'] == row['user_id']]\n",
    "    total_messages = user_messages.shape[0]\n",
    "    if total_messages > row['messages_included']:\n",
    "        revenue += (total_messages - row['messages_included']) * row['usd_per_message']\n",
    "\n",
    "    # Calcular excesos de datos\n",
    "    user_internet = internet[internet['user_id'] == row['user_id']]\n",
    "    total_mb = user_internet['mb_used'].sum()\n",
    "    if total_mb > row['mb_per_month_included']:\n",
    "        total_gb_over = (total_mb - row['mb_per_month_included']) / 1024\n",
    "        revenue += total_gb_over * row['usd_per_gb']\n",
    "\n",
    "    return revenue\n",
    "\n",
    "# Calcular ingresos para cada usuario\n",
    "users['revenue'] = users.apply(calculate_monthly_revenue, axis=1)\n",
    "\n",
    "# Separar los usuarios del área NY-NJ y otras regiones\n",
    "ny_nj_revenues = users[users['city'].str.contains('NY-NJ', na=False)]['revenue']\n",
    "other_revenues = users[~users['city'].str.contains('NY-NJ', na=False)]['revenue']\n",
    "\n",
    "# Realizar la prueba t de dos muestras independientes\n",
    "t_stat, p_value = ttest_ind(ny_nj_revenues, other_revenues, equal_var=False)\n",
    "\n",
    "# Imprimir los resultados\n",
    "print(f\"T-statistic: {t_stat:.2f}\")\n",
    "print(f\"P-value: {p_value:.4f}\")\n",
    "\n",
    "# Interpretar los resultados\n",
    "alpha = 0.05\n",
    "if p_value < alpha:\n",
    "    print(\"Rechazamos la hipótesis nula. Los ingresos promedio de los usuarios del área NY-NJ son significativamente diferentes a los de otras regiones.\")\n",
    "else:\n",
    "    print(\"No rechazamos la hipótesis nula. No hay una diferencia significativa en los ingresos promedio de los usuarios del área NY-NJ y otras regiones.\")"
   ]
  },
  {
   "cell_type": "markdown",
   "metadata": {
    "id": "bbTR8UQO0q1T"
   },
   "source": [
    "## Conclusión general\n",
    "\n",
    "El plan \"Ultimate\" genera más ingresos recurrentes, ya que es más caro mensualmente, mientras que el plan \"Surf\" genera más ingresos por excedentes, lo que provoca una mayor volatilidad en sus ingresos. A pesar de la mayor cantidad de clientes de \"Surf\", los clientes de \"Ultimate\" gastan más en promedio, ya que consumen más minutos, SMS y datos. Los clientes de \"Surf\" generan más ingresos por excedentes, ya que exceden sus asignaciones con mayor frecuencia, lo que crea un flujo de ingresos más volátil. Los resultados de la prueba muestran que los ingresos promedio de ambos planes varían considerablemente, por lo que es más probable que \"Ultimate\" tenga un flujo de ingresos estable. \"Ultimate\" podría generar más ingresos por usuario, por lo que es una opción más lucrativa, y \"Surf\" tiene más usuarios, ya que es más económico."
   ]
  },
  {
   "cell_type": "code",
   "execution_count": null,
   "metadata": {},
   "outputs": [],
   "source": []
  }
 ],
 "metadata": {
  "ExecuteTimeLog": [
   {
    "duration": 828,
    "start_time": "2021-11-16T09:21:11.304Z"
   },
   {
    "duration": 893,
    "start_time": "2021-11-16T09:21:17.728Z"
   },
   {
    "duration": 1150,
    "start_time": "2021-11-16T09:21:29.568Z"
   },
   {
    "duration": 3,
    "start_time": "2021-11-16T09:24:14.495Z"
   },
   {
    "duration": 120,
    "start_time": "2021-11-16T09:24:46.630Z"
   },
   {
    "duration": 3,
    "start_time": "2021-11-16T09:28:27.882Z"
   },
   {
    "duration": 4,
    "start_time": "2021-11-16T09:29:54.281Z"
   },
   {
    "duration": 3,
    "start_time": "2021-11-16T09:30:45.936Z"
   },
   {
    "duration": 4,
    "start_time": "2021-11-16T09:31:06.300Z"
   },
   {
    "duration": 113,
    "start_time": "2021-11-16T09:31:37.208Z"
   },
   {
    "duration": 143,
    "start_time": "2021-11-16T09:31:48.656Z"
   },
   {
    "duration": 98,
    "start_time": "2021-11-16T09:31:55.678Z"
   },
   {
    "duration": 3,
    "start_time": "2021-11-16T09:32:08.535Z"
   },
   {
    "duration": 111,
    "start_time": "2021-11-16T09:32:10.120Z"
   },
   {
    "duration": 3,
    "start_time": "2021-11-16T09:32:15.732Z"
   },
   {
    "duration": 4,
    "start_time": "2021-11-16T09:32:29.423Z"
   },
   {
    "duration": 3,
    "start_time": "2021-11-16T10:03:03.074Z"
   },
   {
    "duration": 3,
    "start_time": "2021-11-16T10:10:01.288Z"
   },
   {
    "duration": 3,
    "start_time": "2021-11-16T10:10:46.923Z"
   },
   {
    "duration": 121,
    "start_time": "2021-11-16T10:37:46.494Z"
   },
   {
    "duration": 125,
    "start_time": "2021-11-16T10:38:20.632Z"
   },
   {
    "duration": 112,
    "start_time": "2021-11-16T10:46:53.001Z"
   },
   {
    "duration": 110,
    "start_time": "2021-11-16T10:48:25.775Z"
   },
   {
    "duration": 3,
    "start_time": "2021-11-16T10:50:18.720Z"
   },
   {
    "duration": 4,
    "start_time": "2021-11-16T10:50:37.649Z"
   },
   {
    "duration": 2,
    "start_time": "2021-11-16T10:50:51.884Z"
   },
   {
    "duration": 3,
    "start_time": "2021-11-16T10:51:56.237Z"
   },
   {
    "duration": 101,
    "start_time": "2021-11-16T10:53:13.791Z"
   },
   {
    "duration": 3,
    "start_time": "2021-11-16T10:55:59.186Z"
   },
   {
    "duration": 3,
    "start_time": "2021-11-16T10:56:10.751Z"
   },
   {
    "duration": 3,
    "start_time": "2021-11-16T10:56:49.038Z"
   },
   {
    "duration": 3,
    "start_time": "2021-11-16T10:56:49.174Z"
   },
   {
    "duration": 4,
    "start_time": "2021-11-16T10:56:49.414Z"
   },
   {
    "duration": 3,
    "start_time": "2021-11-16T10:56:49.680Z"
   },
   {
    "duration": 3,
    "start_time": "2021-11-16T10:56:50.370Z"
   },
   {
    "duration": 114,
    "start_time": "2021-11-16T10:59:34.518Z"
   },
   {
    "duration": 3,
    "start_time": "2021-11-16T11:01:41.201Z"
   },
   {
    "duration": 116,
    "start_time": "2021-11-16T11:01:48.754Z"
   },
   {
    "duration": 3,
    "start_time": "2021-11-16T11:02:16.685Z"
   },
   {
    "duration": 3,
    "start_time": "2021-11-16T11:02:19.479Z"
   },
   {
    "duration": 3,
    "start_time": "2021-11-16T11:02:47.067Z"
   },
   {
    "duration": 3,
    "start_time": "2021-11-16T11:02:49.353Z"
   },
   {
    "duration": 3,
    "start_time": "2021-11-16T11:03:07.835Z"
   },
   {
    "duration": 3,
    "start_time": "2021-11-16T11:03:07.953Z"
   },
   {
    "duration": 112,
    "start_time": "2021-11-16T11:07:52.072Z"
   },
   {
    "duration": 187,
    "start_time": "2021-11-16T11:09:23.468Z"
   },
   {
    "duration": 4,
    "start_time": "2021-11-16T11:10:01.455Z"
   },
   {
    "duration": 3,
    "start_time": "2021-11-16T11:10:05.069Z"
   },
   {
    "duration": 4,
    "start_time": "2021-11-16T11:10:13.376Z"
   },
   {
    "duration": 3,
    "start_time": "2021-11-16T11:10:14.434Z"
   },
   {
    "duration": 3,
    "start_time": "2021-11-16T11:10:22.853Z"
   },
   {
    "duration": 4,
    "start_time": "2021-11-16T11:27:29.279Z"
   },
   {
    "duration": 4,
    "start_time": "2021-11-16T11:29:08.919Z"
   },
   {
    "duration": 118,
    "start_time": "2021-11-16T11:29:46.703Z"
   },
   {
    "duration": 437,
    "start_time": "2021-11-16T11:36:02.181Z"
   },
   {
    "duration": 157,
    "start_time": "2021-11-16T11:36:14.388Z"
   },
   {
    "duration": 207,
    "start_time": "2021-11-16T11:47:15.898Z"
   },
   {
    "duration": 3,
    "start_time": "2021-11-16T11:53:52.092Z"
   },
   {
    "duration": 3,
    "start_time": "2021-11-16T11:53:52.236Z"
   },
   {
    "duration": 3,
    "start_time": "2021-11-16T11:59:12.005Z"
   },
   {
    "duration": 112,
    "start_time": "2021-11-16T12:00:33.446Z"
   },
   {
    "duration": 3,
    "start_time": "2021-11-16T12:02:14.453Z"
   },
   {
    "duration": 3,
    "start_time": "2021-11-16T12:02:39.512Z"
   },
   {
    "duration": 106,
    "start_time": "2021-11-16T12:03:03.460Z"
   },
   {
    "duration": 3,
    "start_time": "2021-11-17T20:37:21.139Z"
   },
   {
    "duration": 3,
    "start_time": "2021-11-17T20:37:22.229Z"
   },
   {
    "duration": 3,
    "start_time": "2021-11-17T20:38:38.806Z"
   },
   {
    "duration": 3,
    "start_time": "2021-11-17T20:38:41.958Z"
   },
   {
    "duration": 3,
    "start_time": "2021-11-17T20:43:46.551Z"
   },
   {
    "duration": 4,
    "start_time": "2021-11-17T20:58:21.835Z"
   },
   {
    "duration": 3,
    "start_time": "2021-11-17T20:59:21.872Z"
   },
   {
    "duration": 4,
    "start_time": "2021-11-17T20:59:45.352Z"
   },
   {
    "duration": 4,
    "start_time": "2021-11-17T20:59:49.646Z"
   },
   {
    "duration": 159,
    "start_time": "2021-11-17T21:02:26.949Z"
   },
   {
    "duration": 3,
    "start_time": "2021-11-17T21:03:53.461Z"
   },
   {
    "duration": 3,
    "start_time": "2021-11-17T21:03:53.694Z"
   },
   {
    "duration": 3,
    "start_time": "2021-11-17T21:05:28.145Z"
   },
   {
    "duration": 116,
    "start_time": "2021-11-17T21:05:57.787Z"
   },
   {
    "duration": 3,
    "start_time": "2021-11-17T21:06:37.993Z"
   },
   {
    "duration": 3,
    "start_time": "2021-11-17T21:06:38.261Z"
   },
   {
    "duration": 3,
    "start_time": "2021-11-17T21:11:54.358Z"
   },
   {
    "duration": 3,
    "start_time": "2021-11-17T21:12:43.846Z"
   },
   {
    "duration": 4,
    "start_time": "2021-11-17T21:13:08.773Z"
   },
   {
    "duration": 3,
    "start_time": "2021-11-17T21:14:44.441Z"
   },
   {
    "duration": 3,
    "start_time": "2021-11-17T21:15:42.059Z"
   },
   {
    "duration": 4,
    "start_time": "2021-11-17T21:15:51.995Z"
   },
   {
    "duration": 3,
    "start_time": "2021-11-17T21:15:53.923Z"
   },
   {
    "duration": 3,
    "start_time": "2021-11-17T21:15:55.282Z"
   },
   {
    "duration": 3,
    "start_time": "2021-11-17T21:16:28.492Z"
   },
   {
    "duration": 3,
    "start_time": "2021-11-17T21:16:32.603Z"
   },
   {
    "duration": 3,
    "start_time": "2021-11-17T21:17:06.941Z"
   },
   {
    "duration": 98,
    "start_time": "2021-11-17T21:18:05.733Z"
   },
   {
    "duration": 4,
    "start_time": "2021-11-17T21:21:35.255Z"
   },
   {
    "duration": 3,
    "start_time": "2021-11-17T21:21:37.804Z"
   },
   {
    "duration": 4,
    "start_time": "2021-11-17T21:23:06.071Z"
   },
   {
    "duration": 3,
    "start_time": "2021-11-17T21:23:24.799Z"
   },
   {
    "duration": 3,
    "start_time": "2021-11-17T21:23:32.591Z"
   },
   {
    "duration": 98,
    "start_time": "2021-11-17T21:28:31.559Z"
   },
   {
    "duration": 3,
    "start_time": "2021-11-17T21:28:45.448Z"
   },
   {
    "duration": 3,
    "start_time": "2021-11-17T21:29:17.303Z"
   },
   {
    "duration": 3,
    "start_time": "2021-11-17T21:29:29.617Z"
   },
   {
    "duration": 3,
    "start_time": "2021-11-17T21:29:32.681Z"
   },
   {
    "duration": 3,
    "start_time": "2021-11-17T21:36:11.474Z"
   },
   {
    "duration": 3,
    "start_time": "2021-11-17T21:36:14.791Z"
   },
   {
    "duration": 3,
    "start_time": "2021-11-17T21:36:53.943Z"
   },
   {
    "duration": 3,
    "start_time": "2021-11-17T21:36:56.165Z"
   },
   {
    "duration": 4,
    "start_time": "2021-11-17T21:37:16.590Z"
   },
   {
    "duration": 3,
    "start_time": "2021-11-17T21:37:22.702Z"
   },
   {
    "duration": 4,
    "start_time": "2021-11-17T21:38:03.479Z"
   },
   {
    "duration": 3,
    "start_time": "2021-11-17T21:38:08.601Z"
   },
   {
    "duration": 3,
    "start_time": "2021-11-17T21:38:12.928Z"
   },
   {
    "duration": 3,
    "start_time": "2021-11-17T21:38:48.896Z"
   },
   {
    "duration": 2,
    "start_time": "2021-11-17T21:38:49.171Z"
   },
   {
    "duration": 4,
    "start_time": "2021-11-17T21:39:57.889Z"
   },
   {
    "duration": 3,
    "start_time": "2021-11-17T21:39:58.057Z"
   },
   {
    "duration": 3,
    "start_time": "2021-11-17T21:41:20.108Z"
   },
   {
    "duration": 3,
    "start_time": "2021-11-17T21:41:20.629Z"
   },
   {
    "duration": 3,
    "start_time": "2021-11-17T21:42:49.136Z"
   },
   {
    "duration": 3,
    "start_time": "2021-11-17T21:43:15.137Z"
   },
   {
    "duration": 4,
    "start_time": "2021-11-17T21:43:16.766Z"
   },
   {
    "duration": 4,
    "start_time": "2021-11-17T21:43:31.711Z"
   },
   {
    "duration": 3,
    "start_time": "2021-11-17T21:43:36.312Z"
   },
   {
    "duration": 4,
    "start_time": "2021-11-17T21:45:08.825Z"
   },
   {
    "duration": 4,
    "start_time": "2021-11-17T21:45:10.119Z"
   },
   {
    "duration": 4,
    "start_time": "2021-11-17T21:45:13.748Z"
   },
   {
    "duration": 3,
    "start_time": "2021-11-17T21:45:22.219Z"
   },
   {
    "duration": 3,
    "start_time": "2021-11-17T21:45:33.412Z"
   },
   {
    "duration": 2,
    "start_time": "2021-11-17T21:46:01.885Z"
   },
   {
    "duration": 3,
    "start_time": "2021-11-17T21:46:03.628Z"
   },
   {
    "duration": 107,
    "start_time": "2021-11-17T21:47:32.512Z"
   },
   {
    "duration": 103,
    "start_time": "2021-11-17T21:50:36.243Z"
   },
   {
    "duration": 3,
    "start_time": "2021-11-18T06:28:31.440Z"
   },
   {
    "duration": 3,
    "start_time": "2021-11-18T06:29:00.168Z"
   },
   {
    "duration": 3,
    "start_time": "2021-11-18T06:31:27.008Z"
   },
   {
    "duration": 2,
    "start_time": "2021-11-18T06:35:34.288Z"
   },
   {
    "duration": 2,
    "start_time": "2021-11-18T06:38:04.527Z"
   },
   {
    "duration": 4,
    "start_time": "2025-03-12T00:53:44.059Z"
   },
   {
    "duration": 2538,
    "start_time": "2025-03-12T00:54:11.990Z"
   },
   {
    "duration": 600,
    "start_time": "2025-03-12T00:54:29.245Z"
   },
   {
    "duration": 2,
    "start_time": "2025-03-12T00:55:32.617Z"
   },
   {
    "duration": 2,
    "start_time": "2025-03-12T00:56:09.681Z"
   },
   {
    "duration": 62,
    "start_time": "2025-03-12T00:56:11.272Z"
   },
   {
    "duration": 101,
    "start_time": "2025-03-12T00:57:33.331Z"
   },
   {
    "duration": 64,
    "start_time": "2025-03-12T00:59:59.819Z"
   },
   {
    "duration": 104,
    "start_time": "2025-03-12T01:01:47.462Z"
   },
   {
    "duration": 3,
    "start_time": "2025-03-12T01:06:20.175Z"
   },
   {
    "duration": 2533,
    "start_time": "2025-03-12T22:57:07.908Z"
   },
   {
    "duration": 574,
    "start_time": "2025-03-12T22:57:50.065Z"
   },
   {
    "duration": 64,
    "start_time": "2025-03-12T22:58:07.146Z"
   },
   {
    "duration": 2,
    "start_time": "2025-03-12T22:58:20.118Z"
   },
   {
    "duration": 3,
    "start_time": "2025-03-12T23:27:29.569Z"
   },
   {
    "duration": 205,
    "start_time": "2025-03-12T23:27:34.404Z"
   },
   {
    "duration": 3,
    "start_time": "2025-03-12T23:27:50.160Z"
   },
   {
    "duration": 164,
    "start_time": "2025-03-12T23:27:51.200Z"
   },
   {
    "duration": 3,
    "start_time": "2025-03-12T23:28:05.163Z"
   },
   {
    "duration": 3,
    "start_time": "2025-03-12T23:28:12.127Z"
   },
   {
    "duration": 156,
    "start_time": "2025-03-12T23:28:14.272Z"
   },
   {
    "duration": 158,
    "start_time": "2025-03-12T23:29:43.880Z"
   },
   {
    "duration": 3,
    "start_time": "2025-03-12T23:29:54.214Z"
   },
   {
    "duration": 2,
    "start_time": "2025-03-12T23:29:58.534Z"
   },
   {
    "duration": 4,
    "start_time": "2025-03-12T23:33:57.837Z"
   },
   {
    "duration": 160,
    "start_time": "2025-03-12T23:33:59.764Z"
   },
   {
    "duration": 45,
    "start_time": "2025-03-12T23:35:31.160Z"
   },
   {
    "duration": 153,
    "start_time": "2025-03-12T23:36:30.543Z"
   },
   {
    "duration": 3,
    "start_time": "2025-03-12T23:40:46.949Z"
   },
   {
    "duration": 27,
    "start_time": "2025-03-12T23:41:49.354Z"
   },
   {
    "duration": 8,
    "start_time": "2025-03-12T23:43:20.132Z"
   },
   {
    "duration": 5,
    "start_time": "2025-03-12T23:45:02.781Z"
   },
   {
    "duration": 78,
    "start_time": "2025-03-12T23:46:26.442Z"
   },
   {
    "duration": 6,
    "start_time": "2025-03-12T23:58:32.011Z"
   },
   {
    "duration": 16,
    "start_time": "2025-03-12T23:58:53.640Z"
   },
   {
    "duration": 5,
    "start_time": "2025-03-13T00:00:03.233Z"
   },
   {
    "duration": 14,
    "start_time": "2025-03-13T00:00:31.652Z"
   },
   {
    "duration": 448,
    "start_time": "2025-03-13T00:03:57.947Z"
   },
   {
    "duration": 47,
    "start_time": "2025-03-13T00:04:45.699Z"
   },
   {
    "duration": 51,
    "start_time": "2025-03-13T00:04:52.224Z"
   },
   {
    "duration": 43,
    "start_time": "2025-03-13T00:05:07.347Z"
   },
   {
    "duration": 46,
    "start_time": "2025-03-13T00:07:15.229Z"
   },
   {
    "duration": 9,
    "start_time": "2025-03-13T00:07:45.096Z"
   },
   {
    "duration": 44,
    "start_time": "2025-03-13T00:07:51.969Z"
   },
   {
    "duration": 50,
    "start_time": "2025-03-13T00:08:20.798Z"
   },
   {
    "duration": 4,
    "start_time": "2025-03-13T00:08:26.070Z"
   },
   {
    "duration": 42,
    "start_time": "2025-03-13T00:08:32.044Z"
   },
   {
    "duration": 7,
    "start_time": "2025-03-13T00:12:57.071Z"
   },
   {
    "duration": 8,
    "start_time": "2025-03-13T00:13:15.656Z"
   },
   {
    "duration": 9,
    "start_time": "2025-03-13T00:14:45.397Z"
   },
   {
    "duration": 5,
    "start_time": "2025-03-13T00:14:53.618Z"
   },
   {
    "duration": 44,
    "start_time": "2025-03-13T00:18:22.999Z"
   },
   {
    "duration": 8,
    "start_time": "2025-03-13T00:20:33.932Z"
   },
   {
    "duration": 7,
    "start_time": "2025-03-13T00:20:39.178Z"
   },
   {
    "duration": 8,
    "start_time": "2025-03-13T00:21:17.987Z"
   },
   {
    "duration": 8,
    "start_time": "2025-03-13T00:21:23.501Z"
   },
   {
    "duration": 16,
    "start_time": "2025-03-13T00:22:44.888Z"
   },
   {
    "duration": 5,
    "start_time": "2025-03-13T00:22:54.972Z"
   },
   {
    "duration": 41,
    "start_time": "2025-03-13T00:27:25.530Z"
   },
   {
    "duration": 7,
    "start_time": "2025-03-13T00:29:10.663Z"
   },
   {
    "duration": 8,
    "start_time": "2025-03-13T00:29:30.811Z"
   },
   {
    "duration": 13,
    "start_time": "2025-03-13T00:30:58.250Z"
   },
   {
    "duration": 4,
    "start_time": "2025-03-13T00:31:06.301Z"
   },
   {
    "duration": 12,
    "start_time": "2025-03-13T00:31:10.756Z"
   },
   {
    "duration": 6,
    "start_time": "2025-03-13T00:31:13.042Z"
   },
   {
    "duration": 5,
    "start_time": "2025-03-13T00:34:47.565Z"
   },
   {
    "duration": 29,
    "start_time": "2025-03-13T00:34:55.856Z"
   },
   {
    "duration": 28,
    "start_time": "2025-03-13T00:35:08.386Z"
   },
   {
    "duration": 22,
    "start_time": "2025-03-13T00:35:21.050Z"
   },
   {
    "duration": 14,
    "start_time": "2025-03-13T00:36:42.567Z"
   },
   {
    "duration": 6,
    "start_time": "2025-03-13T00:36:52.005Z"
   },
   {
    "duration": 64,
    "start_time": "2025-03-13T00:39:23.165Z"
   },
   {
    "duration": 45,
    "start_time": "2025-03-13T00:39:38.070Z"
   },
   {
    "duration": 6,
    "start_time": "2025-03-13T00:40:23.730Z"
   },
   {
    "duration": 154,
    "start_time": "2025-03-13T00:41:41.590Z"
   },
   {
    "duration": 55,
    "start_time": "2025-03-13T00:42:09.149Z"
   },
   {
    "duration": 129,
    "start_time": "2025-03-13T00:42:23.477Z"
   },
   {
    "duration": 46,
    "start_time": "2025-03-13T00:43:13.831Z"
   },
   {
    "duration": 15,
    "start_time": "2025-03-13T00:43:26.654Z"
   },
   {
    "duration": 10,
    "start_time": "2025-03-13T00:43:37.157Z"
   },
   {
    "duration": 10,
    "start_time": "2025-03-13T00:43:46.105Z"
   },
   {
    "duration": 44,
    "start_time": "2025-03-13T00:44:01.527Z"
   },
   {
    "duration": 110,
    "start_time": "2025-03-13T00:45:41.617Z"
   },
   {
    "duration": 68,
    "start_time": "2025-03-13T00:46:11.208Z"
   },
   {
    "duration": 27,
    "start_time": "2025-03-13T00:46:25.368Z"
   },
   {
    "duration": 152,
    "start_time": "2025-03-13T00:47:00.901Z"
   },
   {
    "duration": 25,
    "start_time": "2025-03-13T00:47:05.026Z"
   },
   {
    "duration": 19,
    "start_time": "2025-03-13T00:48:30.704Z"
   },
   {
    "duration": 14,
    "start_time": "2025-03-13T00:49:04.073Z"
   },
   {
    "duration": 23,
    "start_time": "2025-03-13T00:49:09.526Z"
   },
   {
    "duration": 5,
    "start_time": "2025-03-13T00:50:34.421Z"
   },
   {
    "duration": 15,
    "start_time": "2025-03-13T00:51:30.697Z"
   },
   {
    "duration": 4,
    "start_time": "2025-03-13T00:51:58.696Z"
   },
   {
    "duration": 6,
    "start_time": "2025-03-13T00:52:03.902Z"
   },
   {
    "duration": 25,
    "start_time": "2025-03-13T00:55:10.982Z"
   },
   {
    "duration": 3,
    "start_time": "2025-03-13T00:59:52.410Z"
   },
   {
    "duration": 8,
    "start_time": "2025-03-13T01:00:13.407Z"
   },
   {
    "duration": 164,
    "start_time": "2025-03-13T01:01:25.674Z"
   },
   {
    "duration": 167,
    "start_time": "2025-03-13T01:01:37.933Z"
   },
   {
    "duration": 8,
    "start_time": "2025-03-13T01:02:29.619Z"
   },
   {
    "duration": 118,
    "start_time": "2025-03-13T01:02:40.323Z"
   },
   {
    "duration": 113,
    "start_time": "2025-03-13T01:05:37.552Z"
   },
   {
    "duration": 290,
    "start_time": "2025-03-13T01:06:02.771Z"
   },
   {
    "duration": 212,
    "start_time": "2025-03-13T01:07:08.138Z"
   },
   {
    "duration": 116,
    "start_time": "2025-03-13T01:07:32.279Z"
   },
   {
    "duration": 114,
    "start_time": "2025-03-13T01:11:12.519Z"
   },
   {
    "duration": 3,
    "start_time": "2025-03-13T01:11:52.693Z"
   },
   {
    "duration": 23,
    "start_time": "2025-03-13T01:12:08.409Z"
   },
   {
    "duration": 3,
    "start_time": "2025-03-13T01:13:11.879Z"
   },
   {
    "duration": 25,
    "start_time": "2025-03-13T01:13:22.214Z"
   },
   {
    "duration": 2,
    "start_time": "2025-03-13T01:13:30.037Z"
   },
   {
    "duration": 25,
    "start_time": "2025-03-13T01:13:53.998Z"
   },
   {
    "duration": 135,
    "start_time": "2025-03-13T01:15:38.536Z"
   },
   {
    "duration": 26,
    "start_time": "2025-03-13T01:16:21.559Z"
   },
   {
    "duration": 111,
    "start_time": "2025-03-13T01:18:35.927Z"
   },
   {
    "duration": 124,
    "start_time": "2025-03-13T01:19:14.353Z"
   },
   {
    "duration": 3,
    "start_time": "2025-03-13T01:25:46.140Z"
   },
   {
    "duration": 6,
    "start_time": "2025-03-13T01:27:04.105Z"
   },
   {
    "duration": 5,
    "start_time": "2025-03-13T01:28:09.869Z"
   },
   {
    "duration": 5,
    "start_time": "2025-03-13T01:28:15.006Z"
   },
   {
    "duration": 2596,
    "start_time": "2025-03-13T21:03:07.459Z"
   },
   {
    "duration": 3,
    "start_time": "2025-03-13T21:03:48.284Z"
   },
   {
    "duration": 236,
    "start_time": "2025-03-13T21:04:42.622Z"
   },
   {
    "duration": 20,
    "start_time": "2025-03-13T21:04:49.162Z"
   },
   {
    "duration": 3,
    "start_time": "2025-03-13T21:04:59.896Z"
   },
   {
    "duration": 245,
    "start_time": "2025-03-13T21:05:03.577Z"
   },
   {
    "duration": 89,
    "start_time": "2025-03-13T21:05:05.442Z"
   },
   {
    "duration": 25,
    "start_time": "2025-03-13T21:05:08.819Z"
   },
   {
    "duration": 5,
    "start_time": "2025-03-13T21:05:12.329Z"
   },
   {
    "duration": 16,
    "start_time": "2025-03-13T21:05:14.350Z"
   },
   {
    "duration": 9,
    "start_time": "2025-03-13T21:05:20.543Z"
   },
   {
    "duration": 10,
    "start_time": "2025-03-13T21:05:23.757Z"
   },
   {
    "duration": 5,
    "start_time": "2025-03-13T21:05:24.541Z"
   },
   {
    "duration": 8,
    "start_time": "2025-03-13T21:05:30.072Z"
   },
   {
    "duration": 8,
    "start_time": "2025-03-13T21:05:34.421Z"
   },
   {
    "duration": 18,
    "start_time": "2025-03-13T21:05:37.635Z"
   },
   {
    "duration": 5,
    "start_time": "2025-03-13T21:05:40.367Z"
   },
   {
    "duration": 8,
    "start_time": "2025-03-13T21:05:43.848Z"
   },
   {
    "duration": 8,
    "start_time": "2025-03-13T21:05:47.810Z"
   },
   {
    "duration": 12,
    "start_time": "2025-03-13T21:13:58.017Z"
   },
   {
    "duration": 4,
    "start_time": "2025-03-13T21:14:29.288Z"
   },
   {
    "duration": 4,
    "start_time": "2025-03-13T21:14:32.213Z"
   },
   {
    "duration": 15,
    "start_time": "2025-03-13T21:15:11.667Z"
   },
   {
    "duration": 4,
    "start_time": "2025-03-13T21:15:14.852Z"
   },
   {
    "duration": 28,
    "start_time": "2025-03-13T21:15:19.881Z"
   },
   {
    "duration": 20,
    "start_time": "2025-03-13T21:15:21.438Z"
   },
   {
    "duration": 14,
    "start_time": "2025-03-13T21:15:25.480Z"
   },
   {
    "duration": 5,
    "start_time": "2025-03-13T21:15:29.069Z"
   },
   {
    "duration": 59,
    "start_time": "2025-03-13T21:15:39.939Z"
   },
   {
    "duration": 51,
    "start_time": "2025-03-13T21:19:07.025Z"
   },
   {
    "duration": 16,
    "start_time": "2025-03-13T21:19:16.632Z"
   },
   {
    "duration": 390,
    "start_time": "2025-03-13T21:19:17.606Z"
   },
   {
    "duration": 21,
    "start_time": "2025-03-13T21:20:54.788Z"
   },
   {
    "duration": 41,
    "start_time": "2025-03-13T21:21:10.709Z"
   },
   {
    "duration": 24,
    "start_time": "2025-03-13T21:22:39.604Z"
   },
   {
    "duration": 15,
    "start_time": "2025-03-13T21:22:42.190Z"
   },
   {
    "duration": 7,
    "start_time": "2025-03-13T21:24:31.976Z"
   },
   {
    "duration": 15,
    "start_time": "2025-03-13T21:25:37.306Z"
   },
   {
    "duration": 157,
    "start_time": "2025-03-13T21:26:21.841Z"
   },
   {
    "duration": 90,
    "start_time": "2025-03-13T21:28:27.568Z"
   },
   {
    "duration": 81,
    "start_time": "2025-03-13T21:28:45.797Z"
   },
   {
    "duration": 293,
    "start_time": "2025-03-13T21:30:04.937Z"
   },
   {
    "duration": 66,
    "start_time": "2025-03-13T21:31:29.156Z"
   },
   {
    "duration": 2,
    "start_time": "2025-03-13T21:31:39.876Z"
   },
   {
    "duration": 27,
    "start_time": "2025-03-13T21:34:49.670Z"
   },
   {
    "duration": 6,
    "start_time": "2025-03-13T21:36:31.323Z"
   },
   {
    "duration": 6,
    "start_time": "2025-03-13T21:36:42.117Z"
   },
   {
    "duration": 6,
    "start_time": "2025-03-13T21:37:39.102Z"
   },
   {
    "duration": 6,
    "start_time": "2025-03-13T21:37:51.905Z"
   },
   {
    "duration": 6,
    "start_time": "2025-03-13T21:38:32.112Z"
   },
   {
    "duration": 150,
    "start_time": "2025-03-13T21:39:13.027Z"
   },
   {
    "duration": 26,
    "start_time": "2025-03-13T21:40:58.054Z"
   },
   {
    "duration": 3,
    "start_time": "2025-03-13T21:41:12.792Z"
   },
   {
    "duration": 23,
    "start_time": "2025-03-13T21:43:02.566Z"
   },
   {
    "duration": 133,
    "start_time": "2025-03-13T21:43:54.210Z"
   },
   {
    "duration": 41,
    "start_time": "2025-03-13T21:45:21.943Z"
   },
   {
    "duration": 41,
    "start_time": "2025-03-13T21:51:37.536Z"
   },
   {
    "duration": 913,
    "start_time": "2025-03-13T21:52:06.042Z"
   },
   {
    "duration": 39,
    "start_time": "2025-03-13T21:52:16.538Z"
   },
   {
    "duration": 27,
    "start_time": "2025-03-13T21:52:54.563Z"
   },
   {
    "duration": 1024,
    "start_time": "2025-03-13T21:53:13.830Z"
   },
   {
    "duration": 701,
    "start_time": "2025-03-13T21:54:04.983Z"
   },
   {
    "duration": 542,
    "start_time": "2025-03-13T21:54:55.959Z"
   },
   {
    "duration": 311,
    "start_time": "2025-03-13T21:58:53.943Z"
   },
   {
    "duration": 242,
    "start_time": "2025-03-13T21:59:05.634Z"
   },
   {
    "duration": 148,
    "start_time": "2025-03-13T21:59:55.438Z"
   },
   {
    "duration": 39,
    "start_time": "2025-03-13T22:00:08.349Z"
   },
   {
    "duration": 648,
    "start_time": "2025-03-13T22:01:25.595Z"
   },
   {
    "duration": 540,
    "start_time": "2025-03-13T22:01:37.247Z"
   },
   {
    "duration": 2,
    "start_time": "2025-03-13T22:01:59.052Z"
   },
   {
    "duration": 334,
    "start_time": "2025-03-13T22:03:26.080Z"
   },
   {
    "duration": 337,
    "start_time": "2025-03-13T22:03:40.183Z"
   },
   {
    "duration": 97,
    "start_time": "2025-03-13T22:11:06.174Z"
   },
   {
    "duration": 134,
    "start_time": "2025-03-13T22:13:40.531Z"
   },
   {
    "duration": 3,
    "start_time": "2025-03-13T22:19:20.458Z"
   },
   {
    "duration": 44,
    "start_time": "2025-03-13T22:20:13.048Z"
   },
   {
    "duration": 3,
    "start_time": "2025-03-13T22:20:39.856Z"
   },
   {
    "duration": 32,
    "start_time": "2025-03-13T22:21:16.212Z"
   },
   {
    "duration": 31,
    "start_time": "2025-03-13T22:22:08.889Z"
   },
   {
    "duration": 946,
    "start_time": "2025-03-13T22:22:51.070Z"
   },
   {
    "duration": 5,
    "start_time": "2025-03-13T22:46:47.903Z"
   },
   {
    "duration": 6,
    "start_time": "2025-03-13T22:48:36.990Z"
   },
   {
    "duration": 6,
    "start_time": "2025-03-13T22:50:14.454Z"
   },
   {
    "duration": 7,
    "start_time": "2025-03-13T22:50:33.044Z"
   },
   {
    "duration": 790,
    "start_time": "2025-03-13T22:52:16.302Z"
   },
   {
    "duration": 804,
    "start_time": "2025-03-13T22:54:56.957Z"
   },
   {
    "duration": 795,
    "start_time": "2025-03-13T22:56:13.036Z"
   },
   {
    "duration": 2,
    "start_time": "2025-03-13T22:56:35.366Z"
   },
   {
    "duration": 142,
    "start_time": "2025-03-13T22:58:27.276Z"
   },
   {
    "duration": 40,
    "start_time": "2025-03-13T23:00:49.357Z"
   },
   {
    "duration": 3,
    "start_time": "2025-03-13T23:01:08.262Z"
   },
   {
    "duration": 40,
    "start_time": "2025-03-13T23:01:23.059Z"
   },
   {
    "duration": 48,
    "start_time": "2025-03-13T23:02:28.176Z"
   },
   {
    "duration": 167,
    "start_time": "2025-03-13T23:02:37.024Z"
   },
   {
    "duration": 2,
    "start_time": "2025-03-13T23:06:20.308Z"
   },
   {
    "duration": 117,
    "start_time": "2025-03-13T23:06:34.156Z"
   },
   {
    "duration": 2,
    "start_time": "2025-03-13T23:06:44.368Z"
   },
   {
    "duration": 30,
    "start_time": "2025-03-13T23:06:57.891Z"
   },
   {
    "duration": 829,
    "start_time": "2025-03-13T23:08:24.122Z"
   },
   {
    "duration": 82,
    "start_time": "2025-03-13T23:10:25.801Z"
   },
   {
    "duration": 3,
    "start_time": "2025-03-13T23:11:47.739Z"
   },
   {
    "duration": 790,
    "start_time": "2025-03-13T23:11:50.584Z"
   },
   {
    "duration": 8,
    "start_time": "2025-03-14T13:49:11.314Z"
   }
  ],
  "colab": {
   "provenance": []
  },
  "kernelspec": {
   "display_name": "Python 3 (ipykernel)",
   "language": "python",
   "name": "python3"
  },
  "language_info": {
   "codemirror_mode": {
    "name": "ipython",
    "version": 3
   },
   "file_extension": ".py",
   "mimetype": "text/x-python",
   "name": "python",
   "nbconvert_exporter": "python",
   "pygments_lexer": "ipython3",
   "version": "3.13.2"
  },
  "toc": {
   "base_numbering": 1,
   "nav_menu": {},
   "number_sections": true,
   "sideBar": true,
   "skip_h1_title": false,
   "title_cell": "Table of Contents",
   "title_sidebar": "Contents",
   "toc_cell": false,
   "toc_position": {},
   "toc_section_display": true,
   "toc_window_display": true
  }
 },
 "nbformat": 4,
 "nbformat_minor": 4
}
